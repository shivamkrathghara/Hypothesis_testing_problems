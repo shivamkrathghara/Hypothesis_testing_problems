{
 "cells": [
  {
   "cell_type": "markdown",
   "id": "75055274",
   "metadata": {},
   "source": [
    "Loading libraries"
   ]
  },
  {
   "cell_type": "code",
   "execution_count": 1,
   "id": "f34de792",
   "metadata": {},
   "outputs": [],
   "source": [
    "import pandas as pd \n",
    "import warnings\n",
    "warnings.filterwarnings('ignore')\n"
   ]
  },
  {
   "cell_type": "code",
   "execution_count": null,
   "id": "b3de4d48",
   "metadata": {},
   "outputs": [],
   "source": []
  },
  {
   "cell_type": "markdown",
   "id": "d3726c5f",
   "metadata": {},
   "source": [
    "#### Loading data from company x side"
   ]
  },
  {
   "cell_type": "code",
   "execution_count": 2,
   "id": "7a01353f",
   "metadata": {},
   "outputs": [],
   "source": [
    "\n",
    "od=pd.read_excel('Company X - Order Report.xlsx')\n",
    "zip_cd = pd.read_excel('Company X - Pincode Zones.xlsx')\n",
    "sku = pd.read_excel('Company X - SKU Master.xlsx')\n"
   ]
  },
  {
   "cell_type": "markdown",
   "id": "69cc8f88",
   "metadata": {},
   "source": [
    "#### Loading data from courier company side "
   ]
  },
  {
   "cell_type": "code",
   "execution_count": 3,
   "id": "fdf55b89",
   "metadata": {},
   "outputs": [],
   "source": [
    "invoice = pd.read_excel('Courier Company - Invoice.xlsx')\n",
    "rates = pd.read_excel('Courier Company - Rates.xlsx')"
   ]
  },
  {
   "cell_type": "code",
   "execution_count": 4,
   "id": "0da4ec52",
   "metadata": {},
   "outputs": [
    {
     "name": "stdout",
     "output_type": "stream",
     "text": [
      "order report shape (400, 3) \n",
      "zip code shape (124, 3) \n",
      "SKU Master data shape (65, 2)\n",
      "invoice shape (124, 8) \n",
      "rates shape (1, 20) \n"
     ]
    }
   ],
   "source": [
    "print(\"order report shape {} \\nzip code shape {} \\nSKU Master data shape {}\".format(od.shape,zip_cd.shape,sku.shape))\n",
    "print(\"invoice shape {} \\nrates shape {} \".format(invoice.shape,rates.shape))"
   ]
  },
  {
   "cell_type": "code",
   "execution_count": 5,
   "id": "c948765f",
   "metadata": {},
   "outputs": [
    {
     "data": {
      "text/html": [
       "<div>\n",
       "<style scoped>\n",
       "    .dataframe tbody tr th:only-of-type {\n",
       "        vertical-align: middle;\n",
       "    }\n",
       "\n",
       "    .dataframe tbody tr th {\n",
       "        vertical-align: top;\n",
       "    }\n",
       "\n",
       "    .dataframe thead th {\n",
       "        text-align: right;\n",
       "    }\n",
       "</style>\n",
       "<table border=\"1\" class=\"dataframe\">\n",
       "  <thead>\n",
       "    <tr style=\"text-align: right;\">\n",
       "      <th></th>\n",
       "      <th>ExternOrderNo</th>\n",
       "      <th>SKU</th>\n",
       "      <th>Order Qty</th>\n",
       "    </tr>\n",
       "  </thead>\n",
       "  <tbody>\n",
       "    <tr>\n",
       "      <th>0</th>\n",
       "      <td>2001827036</td>\n",
       "      <td>8904223818706</td>\n",
       "      <td>1.0</td>\n",
       "    </tr>\n",
       "    <tr>\n",
       "      <th>1</th>\n",
       "      <td>2001827036</td>\n",
       "      <td>8904223819093</td>\n",
       "      <td>1.0</td>\n",
       "    </tr>\n",
       "    <tr>\n",
       "      <th>2</th>\n",
       "      <td>2001827036</td>\n",
       "      <td>8904223819109</td>\n",
       "      <td>1.0</td>\n",
       "    </tr>\n",
       "    <tr>\n",
       "      <th>3</th>\n",
       "      <td>2001827036</td>\n",
       "      <td>8904223818430</td>\n",
       "      <td>1.0</td>\n",
       "    </tr>\n",
       "    <tr>\n",
       "      <th>4</th>\n",
       "      <td>2001827036</td>\n",
       "      <td>8904223819277</td>\n",
       "      <td>1.0</td>\n",
       "    </tr>\n",
       "  </tbody>\n",
       "</table>\n",
       "</div>"
      ],
      "text/plain": [
       "   ExternOrderNo            SKU  Order Qty\n",
       "0     2001827036  8904223818706        1.0\n",
       "1     2001827036  8904223819093        1.0\n",
       "2     2001827036  8904223819109        1.0\n",
       "3     2001827036  8904223818430        1.0\n",
       "4     2001827036  8904223819277        1.0"
      ]
     },
     "execution_count": 5,
     "metadata": {},
     "output_type": "execute_result"
    }
   ],
   "source": [
    "od.head()"
   ]
  },
  {
   "cell_type": "code",
   "execution_count": 6,
   "id": "873f87f9",
   "metadata": {},
   "outputs": [
    {
     "data": {
      "text/html": [
       "<div>\n",
       "<style scoped>\n",
       "    .dataframe tbody tr th:only-of-type {\n",
       "        vertical-align: middle;\n",
       "    }\n",
       "\n",
       "    .dataframe tbody tr th {\n",
       "        vertical-align: top;\n",
       "    }\n",
       "\n",
       "    .dataframe thead th {\n",
       "        text-align: right;\n",
       "    }\n",
       "</style>\n",
       "<table border=\"1\" class=\"dataframe\">\n",
       "  <thead>\n",
       "    <tr style=\"text-align: right;\">\n",
       "      <th></th>\n",
       "      <th>Warehouse Pincode</th>\n",
       "      <th>Customer Pincode</th>\n",
       "      <th>Zone</th>\n",
       "    </tr>\n",
       "  </thead>\n",
       "  <tbody>\n",
       "    <tr>\n",
       "      <th>0</th>\n",
       "      <td>121003</td>\n",
       "      <td>507101</td>\n",
       "      <td>d</td>\n",
       "    </tr>\n",
       "    <tr>\n",
       "      <th>1</th>\n",
       "      <td>121003</td>\n",
       "      <td>486886</td>\n",
       "      <td>d</td>\n",
       "    </tr>\n",
       "    <tr>\n",
       "      <th>2</th>\n",
       "      <td>121003</td>\n",
       "      <td>532484</td>\n",
       "      <td>d</td>\n",
       "    </tr>\n",
       "    <tr>\n",
       "      <th>3</th>\n",
       "      <td>121003</td>\n",
       "      <td>143001</td>\n",
       "      <td>b</td>\n",
       "    </tr>\n",
       "    <tr>\n",
       "      <th>4</th>\n",
       "      <td>121003</td>\n",
       "      <td>515591</td>\n",
       "      <td>d</td>\n",
       "    </tr>\n",
       "  </tbody>\n",
       "</table>\n",
       "</div>"
      ],
      "text/plain": [
       "   Warehouse Pincode  Customer Pincode Zone\n",
       "0             121003            507101    d\n",
       "1             121003            486886    d\n",
       "2             121003            532484    d\n",
       "3             121003            143001    b\n",
       "4             121003            515591    d"
      ]
     },
     "execution_count": 6,
     "metadata": {},
     "output_type": "execute_result"
    }
   ],
   "source": [
    "zip_cd.head()"
   ]
  },
  {
   "cell_type": "code",
   "execution_count": 7,
   "id": "794379e8",
   "metadata": {},
   "outputs": [
    {
     "data": {
      "text/html": [
       "<div>\n",
       "<style scoped>\n",
       "    .dataframe tbody tr th:only-of-type {\n",
       "        vertical-align: middle;\n",
       "    }\n",
       "\n",
       "    .dataframe tbody tr th {\n",
       "        vertical-align: top;\n",
       "    }\n",
       "\n",
       "    .dataframe thead th {\n",
       "        text-align: right;\n",
       "    }\n",
       "</style>\n",
       "<table border=\"1\" class=\"dataframe\">\n",
       "  <thead>\n",
       "    <tr style=\"text-align: right;\">\n",
       "      <th></th>\n",
       "      <th>SKU</th>\n",
       "      <th>Weight (g)</th>\n",
       "    </tr>\n",
       "  </thead>\n",
       "  <tbody>\n",
       "    <tr>\n",
       "      <th>0</th>\n",
       "      <td>8904223815682</td>\n",
       "      <td>210</td>\n",
       "    </tr>\n",
       "    <tr>\n",
       "      <th>1</th>\n",
       "      <td>8904223815859</td>\n",
       "      <td>165</td>\n",
       "    </tr>\n",
       "    <tr>\n",
       "      <th>2</th>\n",
       "      <td>8904223815866</td>\n",
       "      <td>113</td>\n",
       "    </tr>\n",
       "    <tr>\n",
       "      <th>3</th>\n",
       "      <td>8904223815873</td>\n",
       "      <td>65</td>\n",
       "    </tr>\n",
       "    <tr>\n",
       "      <th>4</th>\n",
       "      <td>8904223816214</td>\n",
       "      <td>120</td>\n",
       "    </tr>\n",
       "  </tbody>\n",
       "</table>\n",
       "</div>"
      ],
      "text/plain": [
       "             SKU  Weight (g)\n",
       "0  8904223815682         210\n",
       "1  8904223815859         165\n",
       "2  8904223815866         113\n",
       "3  8904223815873          65\n",
       "4  8904223816214         120"
      ]
     },
     "execution_count": 7,
     "metadata": {},
     "output_type": "execute_result"
    }
   ],
   "source": [
    "sku.head()"
   ]
  },
  {
   "cell_type": "code",
   "execution_count": 8,
   "id": "d4022166",
   "metadata": {},
   "outputs": [
    {
     "data": {
      "text/html": [
       "<div>\n",
       "<style scoped>\n",
       "    .dataframe tbody tr th:only-of-type {\n",
       "        vertical-align: middle;\n",
       "    }\n",
       "\n",
       "    .dataframe tbody tr th {\n",
       "        vertical-align: top;\n",
       "    }\n",
       "\n",
       "    .dataframe thead th {\n",
       "        text-align: right;\n",
       "    }\n",
       "</style>\n",
       "<table border=\"1\" class=\"dataframe\">\n",
       "  <thead>\n",
       "    <tr style=\"text-align: right;\">\n",
       "      <th></th>\n",
       "      <th>AWB Code</th>\n",
       "      <th>Order ID</th>\n",
       "      <th>Charged Weight</th>\n",
       "      <th>Warehouse Pincode</th>\n",
       "      <th>Customer Pincode</th>\n",
       "      <th>Zone</th>\n",
       "      <th>Type of Shipment</th>\n",
       "      <th>Billing Amount (Rs.)</th>\n",
       "    </tr>\n",
       "  </thead>\n",
       "  <tbody>\n",
       "    <tr>\n",
       "      <th>0</th>\n",
       "      <td>1091117222124</td>\n",
       "      <td>2001806232</td>\n",
       "      <td>1.30</td>\n",
       "      <td>121003</td>\n",
       "      <td>507101</td>\n",
       "      <td>d</td>\n",
       "      <td>Forward charges</td>\n",
       "      <td>135.0</td>\n",
       "    </tr>\n",
       "    <tr>\n",
       "      <th>1</th>\n",
       "      <td>1091117222194</td>\n",
       "      <td>2001806273</td>\n",
       "      <td>1.00</td>\n",
       "      <td>121003</td>\n",
       "      <td>486886</td>\n",
       "      <td>d</td>\n",
       "      <td>Forward charges</td>\n",
       "      <td>90.2</td>\n",
       "    </tr>\n",
       "    <tr>\n",
       "      <th>2</th>\n",
       "      <td>1091117222931</td>\n",
       "      <td>2001806408</td>\n",
       "      <td>2.50</td>\n",
       "      <td>121003</td>\n",
       "      <td>532484</td>\n",
       "      <td>d</td>\n",
       "      <td>Forward charges</td>\n",
       "      <td>224.6</td>\n",
       "    </tr>\n",
       "    <tr>\n",
       "      <th>3</th>\n",
       "      <td>1091117223244</td>\n",
       "      <td>2001806458</td>\n",
       "      <td>1.00</td>\n",
       "      <td>121003</td>\n",
       "      <td>143001</td>\n",
       "      <td>b</td>\n",
       "      <td>Forward charges</td>\n",
       "      <td>61.3</td>\n",
       "    </tr>\n",
       "    <tr>\n",
       "      <th>4</th>\n",
       "      <td>1091117229345</td>\n",
       "      <td>2001807012</td>\n",
       "      <td>0.15</td>\n",
       "      <td>121003</td>\n",
       "      <td>515591</td>\n",
       "      <td>d</td>\n",
       "      <td>Forward charges</td>\n",
       "      <td>45.4</td>\n",
       "    </tr>\n",
       "  </tbody>\n",
       "</table>\n",
       "</div>"
      ],
      "text/plain": [
       "        AWB Code    Order ID  Charged Weight  Warehouse Pincode  \\\n",
       "0  1091117222124  2001806232            1.30             121003   \n",
       "1  1091117222194  2001806273            1.00             121003   \n",
       "2  1091117222931  2001806408            2.50             121003   \n",
       "3  1091117223244  2001806458            1.00             121003   \n",
       "4  1091117229345  2001807012            0.15             121003   \n",
       "\n",
       "   Customer Pincode Zone Type of Shipment  Billing Amount (Rs.)  \n",
       "0            507101    d  Forward charges                 135.0  \n",
       "1            486886    d  Forward charges                  90.2  \n",
       "2            532484    d  Forward charges                 224.6  \n",
       "3            143001    b  Forward charges                  61.3  \n",
       "4            515591    d  Forward charges                  45.4  "
      ]
     },
     "execution_count": 8,
     "metadata": {},
     "output_type": "execute_result"
    }
   ],
   "source": [
    "invoice.head()"
   ]
  },
  {
   "cell_type": "code",
   "execution_count": null,
   "id": "80eca054",
   "metadata": {},
   "outputs": [],
   "source": []
  },
  {
   "cell_type": "code",
   "execution_count": 9,
   "id": "469b14a1",
   "metadata": {},
   "outputs": [
    {
     "data": {
      "text/html": [
       "<div>\n",
       "<style scoped>\n",
       "    .dataframe tbody tr th:only-of-type {\n",
       "        vertical-align: middle;\n",
       "    }\n",
       "\n",
       "    .dataframe tbody tr th {\n",
       "        vertical-align: top;\n",
       "    }\n",
       "\n",
       "    .dataframe thead th {\n",
       "        text-align: right;\n",
       "    }\n",
       "</style>\n",
       "<table border=\"1\" class=\"dataframe\">\n",
       "  <thead>\n",
       "    <tr style=\"text-align: right;\">\n",
       "      <th></th>\n",
       "      <th>fwd_a_fixed</th>\n",
       "      <th>fwd_a_additional</th>\n",
       "      <th>fwd_b_fixed</th>\n",
       "      <th>fwd_b_additional</th>\n",
       "      <th>fwd_c_fixed</th>\n",
       "      <th>fwd_c_additional</th>\n",
       "      <th>fwd_d_fixed</th>\n",
       "      <th>fwd_d_additional</th>\n",
       "      <th>fwd_e_fixed</th>\n",
       "      <th>fwd_e_additional</th>\n",
       "      <th>rto_a_fixed</th>\n",
       "      <th>rto_a_additional</th>\n",
       "      <th>rto_b_fixed</th>\n",
       "      <th>rto_b_additional</th>\n",
       "      <th>rto_c_fixed</th>\n",
       "      <th>rto_c_additional</th>\n",
       "      <th>rto_d_fixed</th>\n",
       "      <th>rto_d_additional</th>\n",
       "      <th>rto_e_fixed</th>\n",
       "      <th>rto_e_additional</th>\n",
       "    </tr>\n",
       "  </thead>\n",
       "  <tbody>\n",
       "    <tr>\n",
       "      <th>0</th>\n",
       "      <td>29.5</td>\n",
       "      <td>23.6</td>\n",
       "      <td>33</td>\n",
       "      <td>28.3</td>\n",
       "      <td>40.1</td>\n",
       "      <td>38.9</td>\n",
       "      <td>45.4</td>\n",
       "      <td>44.8</td>\n",
       "      <td>56.6</td>\n",
       "      <td>55.5</td>\n",
       "      <td>13.6</td>\n",
       "      <td>23.6</td>\n",
       "      <td>20.5</td>\n",
       "      <td>28.3</td>\n",
       "      <td>31.9</td>\n",
       "      <td>38.9</td>\n",
       "      <td>41.3</td>\n",
       "      <td>44.8</td>\n",
       "      <td>50.7</td>\n",
       "      <td>55.5</td>\n",
       "    </tr>\n",
       "  </tbody>\n",
       "</table>\n",
       "</div>"
      ],
      "text/plain": [
       "   fwd_a_fixed  fwd_a_additional  fwd_b_fixed  fwd_b_additional  fwd_c_fixed  \\\n",
       "0         29.5              23.6           33              28.3         40.1   \n",
       "\n",
       "   fwd_c_additional  fwd_d_fixed  fwd_d_additional  fwd_e_fixed  \\\n",
       "0              38.9         45.4              44.8         56.6   \n",
       "\n",
       "   fwd_e_additional  rto_a_fixed  rto_a_additional  rto_b_fixed  \\\n",
       "0              55.5         13.6              23.6         20.5   \n",
       "\n",
       "   rto_b_additional  rto_c_fixed  rto_c_additional  rto_d_fixed  \\\n",
       "0              28.3         31.9              38.9         41.3   \n",
       "\n",
       "   rto_d_additional  rto_e_fixed  rto_e_additional  \n",
       "0              44.8         50.7              55.5  "
      ]
     },
     "execution_count": 9,
     "metadata": {},
     "output_type": "execute_result"
    }
   ],
   "source": [
    "rates.head()"
   ]
  },
  {
   "cell_type": "markdown",
   "id": "259ce2a9",
   "metadata": {},
   "source": [
    "#### 1) Inner joining sku and order data for getting weight of each order "
   ]
  },
  {
   "cell_type": "code",
   "execution_count": 10,
   "id": "a603c960",
   "metadata": {},
   "outputs": [],
   "source": [
    "order_details = pd.merge(od, sku , on='SKU', how='inner')"
   ]
  },
  {
   "cell_type": "code",
   "execution_count": 11,
   "id": "e7a126a1",
   "metadata": {},
   "outputs": [
    {
     "data": {
      "text/plain": [
       "(400, 4)"
      ]
     },
     "execution_count": 11,
     "metadata": {},
     "output_type": "execute_result"
    }
   ],
   "source": [
    "order_details.shape"
   ]
  },
  {
   "cell_type": "markdown",
   "id": "6fb861cf",
   "metadata": {},
   "source": [
    "**From the order details column we get an idea of order weight  details for each customer**"
   ]
  },
  {
   "cell_type": "code",
   "execution_count": 12,
   "id": "0aa76962",
   "metadata": {},
   "outputs": [
    {
     "data": {
      "text/plain": [
       "121003    124\n",
       "Name: Warehouse Pincode, dtype: int64"
      ]
     },
     "execution_count": 12,
     "metadata": {},
     "output_type": "execute_result"
    }
   ],
   "source": [
    "zip_cd['Warehouse Pincode'].value_counts()"
   ]
  },
  {
   "cell_type": "code",
   "execution_count": 13,
   "id": "729778f6",
   "metadata": {},
   "outputs": [],
   "source": [
    "zip_cd.drop(['Warehouse Pincode'] , axis=1,inplace=True) # warehouse pincode is same for each zip_cd so we drop that column "
   ]
  },
  {
   "cell_type": "code",
   "execution_count": 14,
   "id": "2157fabd",
   "metadata": {},
   "outputs": [
    {
     "data": {
      "text/plain": [
       "(124, 2)"
      ]
     },
     "execution_count": 14,
     "metadata": {},
     "output_type": "execute_result"
    }
   ],
   "source": [
    "zip_cd.shape"
   ]
  },
  {
   "cell_type": "markdown",
   "id": "6325b97a",
   "metadata": {},
   "source": [
    "#### 2) Multiplying order qty and weight for getting Total weight in gram "
   ]
  },
  {
   "cell_type": "code",
   "execution_count": 15,
   "id": "c624c012",
   "metadata": {},
   "outputs": [
    {
     "data": {
      "text/html": [
       "<div>\n",
       "<style scoped>\n",
       "    .dataframe tbody tr th:only-of-type {\n",
       "        vertical-align: middle;\n",
       "    }\n",
       "\n",
       "    .dataframe tbody tr th {\n",
       "        vertical-align: top;\n",
       "    }\n",
       "\n",
       "    .dataframe thead th {\n",
       "        text-align: right;\n",
       "    }\n",
       "</style>\n",
       "<table border=\"1\" class=\"dataframe\">\n",
       "  <thead>\n",
       "    <tr style=\"text-align: right;\">\n",
       "      <th></th>\n",
       "      <th>ExternOrderNo</th>\n",
       "      <th>SKU</th>\n",
       "      <th>Order Qty</th>\n",
       "      <th>Weight (g)</th>\n",
       "      <th>Total_Weight_kg</th>\n",
       "    </tr>\n",
       "  </thead>\n",
       "  <tbody>\n",
       "    <tr>\n",
       "      <th>0</th>\n",
       "      <td>2001827036</td>\n",
       "      <td>8904223818706</td>\n",
       "      <td>1.0</td>\n",
       "      <td>127</td>\n",
       "      <td>0.127</td>\n",
       "    </tr>\n",
       "    <tr>\n",
       "      <th>1</th>\n",
       "      <td>2001821995</td>\n",
       "      <td>8904223818706</td>\n",
       "      <td>1.0</td>\n",
       "      <td>127</td>\n",
       "      <td>0.127</td>\n",
       "    </tr>\n",
       "    <tr>\n",
       "      <th>2</th>\n",
       "      <td>2001819252</td>\n",
       "      <td>8904223818706</td>\n",
       "      <td>1.0</td>\n",
       "      <td>127</td>\n",
       "      <td>0.127</td>\n",
       "    </tr>\n",
       "    <tr>\n",
       "      <th>3</th>\n",
       "      <td>2001816996</td>\n",
       "      <td>8904223818706</td>\n",
       "      <td>1.0</td>\n",
       "      <td>127</td>\n",
       "      <td>0.127</td>\n",
       "    </tr>\n",
       "    <tr>\n",
       "      <th>4</th>\n",
       "      <td>2001814580</td>\n",
       "      <td>8904223818706</td>\n",
       "      <td>1.0</td>\n",
       "      <td>127</td>\n",
       "      <td>0.127</td>\n",
       "    </tr>\n",
       "  </tbody>\n",
       "</table>\n",
       "</div>"
      ],
      "text/plain": [
       "   ExternOrderNo            SKU  Order Qty  Weight (g)  Total_Weight_kg\n",
       "0     2001827036  8904223818706        1.0         127            0.127\n",
       "1     2001821995  8904223818706        1.0         127            0.127\n",
       "2     2001819252  8904223818706        1.0         127            0.127\n",
       "3     2001816996  8904223818706        1.0         127            0.127\n",
       "4     2001814580  8904223818706        1.0         127            0.127"
      ]
     },
     "execution_count": 15,
     "metadata": {},
     "output_type": "execute_result"
    }
   ],
   "source": [
    "\n",
    "order_details['Total_Weight_kg']=(order_details['Order Qty']*order_details['Weight (g)'])/1000\n",
    "order_details.head()"
   ]
  },
  {
   "cell_type": "code",
   "execution_count": 16,
   "id": "7bfaf465",
   "metadata": {},
   "outputs": [],
   "source": [
    "# grouping based on orders"
   ]
  },
  {
   "cell_type": "code",
   "execution_count": 17,
   "id": "f718469a",
   "metadata": {},
   "outputs": [],
   "source": [
    "order_details = order_details.groupby(['ExternOrderNo']).agg(sum) # grouping order details"
   ]
  },
  {
   "cell_type": "code",
   "execution_count": 18,
   "id": "0e13edf2",
   "metadata": {},
   "outputs": [
    {
     "data": {
      "text/plain": [
       "(124, 3)"
      ]
     },
     "execution_count": 18,
     "metadata": {},
     "output_type": "execute_result"
    }
   ],
   "source": [
    "order_details.shape"
   ]
  },
  {
   "cell_type": "code",
   "execution_count": 19,
   "id": "f24749ee",
   "metadata": {},
   "outputs": [
    {
     "data": {
      "text/plain": [
       "3.0800000000000005"
      ]
     },
     "execution_count": 19,
     "metadata": {},
     "output_type": "execute_result"
    }
   ],
   "source": [
    "# maximum wt in our order\n",
    "order_details['Total_Weight_kg'].max()"
   ]
  },
  {
   "cell_type": "code",
   "execution_count": 20,
   "id": "d5a2c27c",
   "metadata": {},
   "outputs": [],
   "source": [
    "# wt slab function - this function assign wt slab to weight in kg \n",
    "def wt_slab(x):\n",
    "    if(x<=.5):\n",
    "        return .5\n",
    "    elif(x<=1 and x>.5):\n",
    "        return 1\n",
    "    elif(x<=1.5 and x>1):\n",
    "        return 1.5\n",
    "    elif(x<=2 and x>1.5):\n",
    "        return 2\n",
    "    elif(x<=2.5 and x>2):\n",
    "        return 2.5\n",
    "    elif(x<=3 and x>2.5):\n",
    "        return 3\n",
    "    elif(x<3.5 and x>3):\n",
    "        return 3.5"
   ]
  },
  {
   "cell_type": "code",
   "execution_count": null,
   "id": "ef7b337b",
   "metadata": {},
   "outputs": [],
   "source": [
    "\n"
   ]
  },
  {
   "cell_type": "code",
   "execution_count": 21,
   "id": "9a4aad7b",
   "metadata": {},
   "outputs": [],
   "source": [
    "order_details.reset_index(inplace=True)\n"
   ]
  },
  {
   "cell_type": "code",
   "execution_count": 22,
   "id": "c398dde3",
   "metadata": {},
   "outputs": [],
   "source": [
    "order_details=pd.DataFrame(order_details[['ExternOrderNo','Total_Weight_kg']])"
   ]
  },
  {
   "cell_type": "code",
   "execution_count": 23,
   "id": "0aaaeacf",
   "metadata": {},
   "outputs": [],
   "source": [
    "order_details['wt_slab_as_per_x']=order_details['Total_Weight_kg'].apply(wt_slab)"
   ]
  },
  {
   "cell_type": "markdown",
   "id": "1b7010fb",
   "metadata": {},
   "source": [
    "joining order details with delivery zone by company x and respective customer pincode "
   ]
  },
  {
   "cell_type": "code",
   "execution_count": 24,
   "id": "a43a8637",
   "metadata": {},
   "outputs": [],
   "source": [
    "order_details=pd.concat([order_details,zip_cd],axis=1)"
   ]
  },
  {
   "cell_type": "code",
   "execution_count": 25,
   "id": "0623a691",
   "metadata": {},
   "outputs": [
    {
     "data": {
      "text/html": [
       "<div>\n",
       "<style scoped>\n",
       "    .dataframe tbody tr th:only-of-type {\n",
       "        vertical-align: middle;\n",
       "    }\n",
       "\n",
       "    .dataframe tbody tr th {\n",
       "        vertical-align: top;\n",
       "    }\n",
       "\n",
       "    .dataframe thead th {\n",
       "        text-align: right;\n",
       "    }\n",
       "</style>\n",
       "<table border=\"1\" class=\"dataframe\">\n",
       "  <thead>\n",
       "    <tr style=\"text-align: right;\">\n",
       "      <th></th>\n",
       "      <th>ExternOrderNo</th>\n",
       "      <th>Total_Weight_kg</th>\n",
       "      <th>wt_slab_as_per_x</th>\n",
       "      <th>Customer Pincode</th>\n",
       "      <th>Zone</th>\n",
       "    </tr>\n",
       "  </thead>\n",
       "  <tbody>\n",
       "    <tr>\n",
       "      <th>0</th>\n",
       "      <td>2001806210</td>\n",
       "      <td>0.220</td>\n",
       "      <td>0.5</td>\n",
       "      <td>507101</td>\n",
       "      <td>d</td>\n",
       "    </tr>\n",
       "    <tr>\n",
       "      <th>1</th>\n",
       "      <td>2001806226</td>\n",
       "      <td>0.480</td>\n",
       "      <td>0.5</td>\n",
       "      <td>486886</td>\n",
       "      <td>d</td>\n",
       "    </tr>\n",
       "    <tr>\n",
       "      <th>2</th>\n",
       "      <td>2001806229</td>\n",
       "      <td>0.500</td>\n",
       "      <td>0.5</td>\n",
       "      <td>532484</td>\n",
       "      <td>d</td>\n",
       "    </tr>\n",
       "    <tr>\n",
       "      <th>3</th>\n",
       "      <td>2001806232</td>\n",
       "      <td>1.302</td>\n",
       "      <td>1.5</td>\n",
       "      <td>143001</td>\n",
       "      <td>b</td>\n",
       "    </tr>\n",
       "    <tr>\n",
       "      <th>4</th>\n",
       "      <td>2001806233</td>\n",
       "      <td>0.245</td>\n",
       "      <td>0.5</td>\n",
       "      <td>515591</td>\n",
       "      <td>d</td>\n",
       "    </tr>\n",
       "    <tr>\n",
       "      <th>...</th>\n",
       "      <td>...</td>\n",
       "      <td>...</td>\n",
       "      <td>...</td>\n",
       "      <td>...</td>\n",
       "      <td>...</td>\n",
       "    </tr>\n",
       "    <tr>\n",
       "      <th>119</th>\n",
       "      <td>2001821995</td>\n",
       "      <td>0.477</td>\n",
       "      <td>0.5</td>\n",
       "      <td>325207</td>\n",
       "      <td>b</td>\n",
       "    </tr>\n",
       "    <tr>\n",
       "      <th>120</th>\n",
       "      <td>2001822466</td>\n",
       "      <td>1.376</td>\n",
       "      <td>1.5</td>\n",
       "      <td>303702</td>\n",
       "      <td>b</td>\n",
       "    </tr>\n",
       "    <tr>\n",
       "      <th>121</th>\n",
       "      <td>2001823564</td>\n",
       "      <td>0.672</td>\n",
       "      <td>1.0</td>\n",
       "      <td>313301</td>\n",
       "      <td>b</td>\n",
       "    </tr>\n",
       "    <tr>\n",
       "      <th>122</th>\n",
       "      <td>2001825261</td>\n",
       "      <td>1.557</td>\n",
       "      <td>2.0</td>\n",
       "      <td>173212</td>\n",
       "      <td>e</td>\n",
       "    </tr>\n",
       "    <tr>\n",
       "      <th>123</th>\n",
       "      <td>2001827036</td>\n",
       "      <td>1.676</td>\n",
       "      <td>2.0</td>\n",
       "      <td>302020</td>\n",
       "      <td>b</td>\n",
       "    </tr>\n",
       "  </tbody>\n",
       "</table>\n",
       "<p>124 rows × 5 columns</p>\n",
       "</div>"
      ],
      "text/plain": [
       "     ExternOrderNo  Total_Weight_kg  wt_slab_as_per_x  Customer Pincode Zone\n",
       "0       2001806210            0.220               0.5            507101    d\n",
       "1       2001806226            0.480               0.5            486886    d\n",
       "2       2001806229            0.500               0.5            532484    d\n",
       "3       2001806232            1.302               1.5            143001    b\n",
       "4       2001806233            0.245               0.5            515591    d\n",
       "..             ...              ...               ...               ...  ...\n",
       "119     2001821995            0.477               0.5            325207    b\n",
       "120     2001822466            1.376               1.5            303702    b\n",
       "121     2001823564            0.672               1.0            313301    b\n",
       "122     2001825261            1.557               2.0            173212    e\n",
       "123     2001827036            1.676               2.0            302020    b\n",
       "\n",
       "[124 rows x 5 columns]"
      ]
     },
     "execution_count": 25,
     "metadata": {},
     "output_type": "execute_result"
    }
   ],
   "source": [
    "order_details"
   ]
  },
  {
   "cell_type": "code",
   "execution_count": 26,
   "id": "babc7254",
   "metadata": {},
   "outputs": [],
   "source": [
    "# renaming column names for convienience in final analysis "
   ]
  },
  {
   "cell_type": "code",
   "execution_count": 27,
   "id": "ab85595e",
   "metadata": {},
   "outputs": [],
   "source": [
    "order_details.columns=['Order ID', 'Total_Weight_kg_x', 'wt_slab_as_per_x',\n",
    "       'Customer Pincode_x', 'Zone_x']"
   ]
  },
  {
   "cell_type": "code",
   "execution_count": null,
   "id": "a5dfe4ac",
   "metadata": {},
   "outputs": [],
   "source": []
  },
  {
   "cell_type": "code",
   "execution_count": 28,
   "id": "d48472d2",
   "metadata": {},
   "outputs": [],
   "source": [
    "# applying weight slab to weight assigned by courier company side\n",
    "invoice['wt_slab_courier_company']=invoice['Charged Weight'].apply(wt_slab)"
   ]
  },
  {
   "cell_type": "code",
   "execution_count": 29,
   "id": "1d854813",
   "metadata": {},
   "outputs": [],
   "source": [
    "ds= pd.merge(order_details,invoice,on='Order ID',how='inner') # joining based on order id "
   ]
  },
  {
   "cell_type": "code",
   "execution_count": 30,
   "id": "d7f1522a",
   "metadata": {},
   "outputs": [
    {
     "data": {
      "text/plain": [
       "(124, 13)"
      ]
     },
     "execution_count": 30,
     "metadata": {},
     "output_type": "execute_result"
    }
   ],
   "source": [
    "ds.shape"
   ]
  },
  {
   "cell_type": "code",
   "execution_count": 31,
   "id": "b4836b67",
   "metadata": {},
   "outputs": [
    {
     "data": {
      "text/html": [
       "<div>\n",
       "<style scoped>\n",
       "    .dataframe tbody tr th:only-of-type {\n",
       "        vertical-align: middle;\n",
       "    }\n",
       "\n",
       "    .dataframe tbody tr th {\n",
       "        vertical-align: top;\n",
       "    }\n",
       "\n",
       "    .dataframe thead th {\n",
       "        text-align: right;\n",
       "    }\n",
       "</style>\n",
       "<table border=\"1\" class=\"dataframe\">\n",
       "  <thead>\n",
       "    <tr style=\"text-align: right;\">\n",
       "      <th></th>\n",
       "      <th>Order ID</th>\n",
       "      <th>Total_Weight_kg_x</th>\n",
       "      <th>wt_slab_as_per_x</th>\n",
       "      <th>Customer Pincode_x</th>\n",
       "      <th>Zone_x</th>\n",
       "      <th>AWB Code</th>\n",
       "      <th>Charged Weight</th>\n",
       "      <th>Warehouse Pincode</th>\n",
       "      <th>Customer Pincode</th>\n",
       "      <th>Zone</th>\n",
       "      <th>Type of Shipment</th>\n",
       "      <th>Billing Amount (Rs.)</th>\n",
       "      <th>wt_slab_courier_company</th>\n",
       "    </tr>\n",
       "  </thead>\n",
       "  <tbody>\n",
       "    <tr>\n",
       "      <th>0</th>\n",
       "      <td>2001806210</td>\n",
       "      <td>0.220</td>\n",
       "      <td>0.5</td>\n",
       "      <td>507101</td>\n",
       "      <td>d</td>\n",
       "      <td>1091117221940</td>\n",
       "      <td>2.92</td>\n",
       "      <td>121003</td>\n",
       "      <td>140604</td>\n",
       "      <td>b</td>\n",
       "      <td>Forward charges</td>\n",
       "      <td>174.5</td>\n",
       "      <td>3.0</td>\n",
       "    </tr>\n",
       "    <tr>\n",
       "      <th>1</th>\n",
       "      <td>2001806226</td>\n",
       "      <td>0.480</td>\n",
       "      <td>0.5</td>\n",
       "      <td>486886</td>\n",
       "      <td>d</td>\n",
       "      <td>1091117222065</td>\n",
       "      <td>0.68</td>\n",
       "      <td>121003</td>\n",
       "      <td>723146</td>\n",
       "      <td>d</td>\n",
       "      <td>Forward charges</td>\n",
       "      <td>90.2</td>\n",
       "      <td>1.0</td>\n",
       "    </tr>\n",
       "    <tr>\n",
       "      <th>2</th>\n",
       "      <td>2001806229</td>\n",
       "      <td>0.500</td>\n",
       "      <td>0.5</td>\n",
       "      <td>532484</td>\n",
       "      <td>d</td>\n",
       "      <td>1091117222080</td>\n",
       "      <td>0.71</td>\n",
       "      <td>121003</td>\n",
       "      <td>421204</td>\n",
       "      <td>d</td>\n",
       "      <td>Forward charges</td>\n",
       "      <td>90.2</td>\n",
       "      <td>1.0</td>\n",
       "    </tr>\n",
       "    <tr>\n",
       "      <th>3</th>\n",
       "      <td>2001806232</td>\n",
       "      <td>1.302</td>\n",
       "      <td>1.5</td>\n",
       "      <td>143001</td>\n",
       "      <td>b</td>\n",
       "      <td>1091117222124</td>\n",
       "      <td>1.30</td>\n",
       "      <td>121003</td>\n",
       "      <td>507101</td>\n",
       "      <td>d</td>\n",
       "      <td>Forward charges</td>\n",
       "      <td>135.0</td>\n",
       "      <td>1.5</td>\n",
       "    </tr>\n",
       "    <tr>\n",
       "      <th>4</th>\n",
       "      <td>2001806233</td>\n",
       "      <td>0.245</td>\n",
       "      <td>0.5</td>\n",
       "      <td>515591</td>\n",
       "      <td>d</td>\n",
       "      <td>1091117222135</td>\n",
       "      <td>0.78</td>\n",
       "      <td>121003</td>\n",
       "      <td>263139</td>\n",
       "      <td>b</td>\n",
       "      <td>Forward charges</td>\n",
       "      <td>61.3</td>\n",
       "      <td>1.0</td>\n",
       "    </tr>\n",
       "  </tbody>\n",
       "</table>\n",
       "</div>"
      ],
      "text/plain": [
       "     Order ID  Total_Weight_kg_x  wt_slab_as_per_x  Customer Pincode_x Zone_x  \\\n",
       "0  2001806210              0.220               0.5              507101      d   \n",
       "1  2001806226              0.480               0.5              486886      d   \n",
       "2  2001806229              0.500               0.5              532484      d   \n",
       "3  2001806232              1.302               1.5              143001      b   \n",
       "4  2001806233              0.245               0.5              515591      d   \n",
       "\n",
       "        AWB Code  Charged Weight  Warehouse Pincode  Customer Pincode Zone  \\\n",
       "0  1091117221940            2.92             121003            140604    b   \n",
       "1  1091117222065            0.68             121003            723146    d   \n",
       "2  1091117222080            0.71             121003            421204    d   \n",
       "3  1091117222124            1.30             121003            507101    d   \n",
       "4  1091117222135            0.78             121003            263139    b   \n",
       "\n",
       "  Type of Shipment  Billing Amount (Rs.)  wt_slab_courier_company  \n",
       "0  Forward charges                 174.5                      3.0  \n",
       "1  Forward charges                  90.2                      1.0  \n",
       "2  Forward charges                  90.2                      1.0  \n",
       "3  Forward charges                 135.0                      1.5  \n",
       "4  Forward charges                  61.3                      1.0  "
      ]
     },
     "execution_count": 31,
     "metadata": {},
     "output_type": "execute_result"
    }
   ],
   "source": [
    "ds.head()"
   ]
  },
  {
   "cell_type": "code",
   "execution_count": null,
   "id": "73c3c307",
   "metadata": {},
   "outputs": [],
   "source": []
  },
  {
   "cell_type": "code",
   "execution_count": 32,
   "id": "3c561c1c",
   "metadata": {},
   "outputs": [],
   "source": [
    "# this function calculated extra weight factor after first .5kg\n",
    "def wt_slb_additional_factor(x):\n",
    "    factor=x/.5\n",
    "    additonal_factor=factor-1\n",
    "    return additonal_factor"
   ]
  },
  {
   "cell_type": "code",
   "execution_count": 33,
   "id": "2eef0707",
   "metadata": {},
   "outputs": [],
   "source": [
    "# making a new column in ds dataframe to identify which wtslab contains additional factors\n",
    "ds['additional_factor']=ds['wt_slab_as_per_x'].apply(wt_slb_additional_factor)"
   ]
  },
  {
   "cell_type": "code",
   "execution_count": 34,
   "id": "3a7df103",
   "metadata": {},
   "outputs": [
    {
     "data": {
      "text/html": [
       "<div>\n",
       "<style scoped>\n",
       "    .dataframe tbody tr th:only-of-type {\n",
       "        vertical-align: middle;\n",
       "    }\n",
       "\n",
       "    .dataframe tbody tr th {\n",
       "        vertical-align: top;\n",
       "    }\n",
       "\n",
       "    .dataframe thead th {\n",
       "        text-align: right;\n",
       "    }\n",
       "</style>\n",
       "<table border=\"1\" class=\"dataframe\">\n",
       "  <thead>\n",
       "    <tr style=\"text-align: right;\">\n",
       "      <th></th>\n",
       "      <th>Order ID</th>\n",
       "      <th>Total_Weight_kg_x</th>\n",
       "      <th>wt_slab_as_per_x</th>\n",
       "      <th>Customer Pincode_x</th>\n",
       "      <th>Zone_x</th>\n",
       "      <th>AWB Code</th>\n",
       "      <th>Charged Weight</th>\n",
       "      <th>Warehouse Pincode</th>\n",
       "      <th>Customer Pincode</th>\n",
       "      <th>Zone</th>\n",
       "      <th>Type of Shipment</th>\n",
       "      <th>Billing Amount (Rs.)</th>\n",
       "      <th>wt_slab_courier_company</th>\n",
       "      <th>additional_factor</th>\n",
       "    </tr>\n",
       "  </thead>\n",
       "  <tbody>\n",
       "    <tr>\n",
       "      <th>0</th>\n",
       "      <td>2001806210</td>\n",
       "      <td>0.220</td>\n",
       "      <td>0.5</td>\n",
       "      <td>507101</td>\n",
       "      <td>d</td>\n",
       "      <td>1091117221940</td>\n",
       "      <td>2.92</td>\n",
       "      <td>121003</td>\n",
       "      <td>140604</td>\n",
       "      <td>b</td>\n",
       "      <td>Forward charges</td>\n",
       "      <td>174.5</td>\n",
       "      <td>3.0</td>\n",
       "      <td>0.0</td>\n",
       "    </tr>\n",
       "    <tr>\n",
       "      <th>1</th>\n",
       "      <td>2001806226</td>\n",
       "      <td>0.480</td>\n",
       "      <td>0.5</td>\n",
       "      <td>486886</td>\n",
       "      <td>d</td>\n",
       "      <td>1091117222065</td>\n",
       "      <td>0.68</td>\n",
       "      <td>121003</td>\n",
       "      <td>723146</td>\n",
       "      <td>d</td>\n",
       "      <td>Forward charges</td>\n",
       "      <td>90.2</td>\n",
       "      <td>1.0</td>\n",
       "      <td>0.0</td>\n",
       "    </tr>\n",
       "    <tr>\n",
       "      <th>2</th>\n",
       "      <td>2001806229</td>\n",
       "      <td>0.500</td>\n",
       "      <td>0.5</td>\n",
       "      <td>532484</td>\n",
       "      <td>d</td>\n",
       "      <td>1091117222080</td>\n",
       "      <td>0.71</td>\n",
       "      <td>121003</td>\n",
       "      <td>421204</td>\n",
       "      <td>d</td>\n",
       "      <td>Forward charges</td>\n",
       "      <td>90.2</td>\n",
       "      <td>1.0</td>\n",
       "      <td>0.0</td>\n",
       "    </tr>\n",
       "    <tr>\n",
       "      <th>3</th>\n",
       "      <td>2001806232</td>\n",
       "      <td>1.302</td>\n",
       "      <td>1.5</td>\n",
       "      <td>143001</td>\n",
       "      <td>b</td>\n",
       "      <td>1091117222124</td>\n",
       "      <td>1.30</td>\n",
       "      <td>121003</td>\n",
       "      <td>507101</td>\n",
       "      <td>d</td>\n",
       "      <td>Forward charges</td>\n",
       "      <td>135.0</td>\n",
       "      <td>1.5</td>\n",
       "      <td>2.0</td>\n",
       "    </tr>\n",
       "    <tr>\n",
       "      <th>4</th>\n",
       "      <td>2001806233</td>\n",
       "      <td>0.245</td>\n",
       "      <td>0.5</td>\n",
       "      <td>515591</td>\n",
       "      <td>d</td>\n",
       "      <td>1091117222135</td>\n",
       "      <td>0.78</td>\n",
       "      <td>121003</td>\n",
       "      <td>263139</td>\n",
       "      <td>b</td>\n",
       "      <td>Forward charges</td>\n",
       "      <td>61.3</td>\n",
       "      <td>1.0</td>\n",
       "      <td>0.0</td>\n",
       "    </tr>\n",
       "  </tbody>\n",
       "</table>\n",
       "</div>"
      ],
      "text/plain": [
       "     Order ID  Total_Weight_kg_x  wt_slab_as_per_x  Customer Pincode_x Zone_x  \\\n",
       "0  2001806210              0.220               0.5              507101      d   \n",
       "1  2001806226              0.480               0.5              486886      d   \n",
       "2  2001806229              0.500               0.5              532484      d   \n",
       "3  2001806232              1.302               1.5              143001      b   \n",
       "4  2001806233              0.245               0.5              515591      d   \n",
       "\n",
       "        AWB Code  Charged Weight  Warehouse Pincode  Customer Pincode Zone  \\\n",
       "0  1091117221940            2.92             121003            140604    b   \n",
       "1  1091117222065            0.68             121003            723146    d   \n",
       "2  1091117222080            0.71             121003            421204    d   \n",
       "3  1091117222124            1.30             121003            507101    d   \n",
       "4  1091117222135            0.78             121003            263139    b   \n",
       "\n",
       "  Type of Shipment  Billing Amount (Rs.)  wt_slab_courier_company  \\\n",
       "0  Forward charges                 174.5                      3.0   \n",
       "1  Forward charges                  90.2                      1.0   \n",
       "2  Forward charges                  90.2                      1.0   \n",
       "3  Forward charges                 135.0                      1.5   \n",
       "4  Forward charges                  61.3                      1.0   \n",
       "\n",
       "   additional_factor  \n",
       "0                0.0  \n",
       "1                0.0  \n",
       "2                0.0  \n",
       "3                2.0  \n",
       "4                0.0  "
      ]
     },
     "execution_count": 34,
     "metadata": {},
     "output_type": "execute_result"
    }
   ],
   "source": [
    "ds.head()"
   ]
  },
  {
   "cell_type": "code",
   "execution_count": 35,
   "id": "d2ac1905",
   "metadata": {},
   "outputs": [],
   "source": [
    "# we have two types of shipments Forward charges and Forward and RTO charges.so we groupby them applying charges rule as given "
   ]
  },
  {
   "cell_type": "code",
   "execution_count": 36,
   "id": "01c251f3",
   "metadata": {},
   "outputs": [],
   "source": [
    "x_fc=ds.groupby('Type of Shipment').get_group('Forward charges') # this data contains only those records which have Forward charges mentioned"
   ]
  },
  {
   "cell_type": "code",
   "execution_count": 37,
   "id": "48f68379",
   "metadata": {},
   "outputs": [],
   "source": [
    "# cost functions for forward charges \n",
    "def fixed_forward_charge(x):\n",
    "    if(x=='a'):\n",
    "        return 29.5\n",
    "    elif(x=='b'):\n",
    "        return 33\n",
    "    elif(x=='c'):\n",
    "        return 40.1\n",
    "    elif(x=='d'):\n",
    "        return 45.4\n",
    "    elif(x=='e'):\n",
    "        return 56.6\n",
    "def additional_forward_charge(x):\n",
    "    if(x=='a'):\n",
    "        return 23.6\n",
    "    elif(x=='b'):\n",
    "        return 28.3\n",
    "    elif(x=='c'):\n",
    "        return 38.9\n",
    "    elif(x=='d'):\n",
    "        return 44.8\n",
    "    elif(x=='e'):\n",
    "        return 55.5\n",
    "    "
   ]
  },
  {
   "cell_type": "code",
   "execution_count": 38,
   "id": "c82db6a3",
   "metadata": {},
   "outputs": [],
   "source": [
    "x_fc['fixed_charge_fc']=x_fc['Zone_x'].apply(fixed_forward_charge)\n",
    "x_fc['additional_charge_fc']=x_fc['Zone_x'].apply(additional_forward_charge)"
   ]
  },
  {
   "cell_type": "code",
   "execution_count": 39,
   "id": "92a32480",
   "metadata": {},
   "outputs": [],
   "source": [
    "# expected cost by company x which has Forward charges \n",
    "x_fc['Expected_cost']=x_fc['fixed_charge_fc'] + x_fc['additional_factor']*x_fc['additional_charge_fc']"
   ]
  },
  {
   "cell_type": "code",
   "execution_count": null,
   "id": "39a98f0c",
   "metadata": {},
   "outputs": [],
   "source": []
  },
  {
   "cell_type": "code",
   "execution_count": 40,
   "id": "ad6a8f42",
   "metadata": {},
   "outputs": [],
   "source": [
    "# x_fc_rto contains columns which ahve forward and rto rate charge\n",
    "x_fc_rto=ds.groupby('Type of Shipment').get_group('Forward and RTO charges')"
   ]
  },
  {
   "cell_type": "code",
   "execution_count": 41,
   "id": "4da17700",
   "metadata": {},
   "outputs": [],
   "source": [
    "x_fc_rto['fixed_charge_fc']=x_fc_rto['Zone_x'].apply(fixed_forward_charge)\n",
    "x_fc_rto['additional_charge_fc']=x_fc_rto['Zone_x'].apply(additional_forward_charge)"
   ]
  },
  {
   "cell_type": "code",
   "execution_count": 42,
   "id": "4195e26b",
   "metadata": {},
   "outputs": [],
   "source": [
    "# function for Forward and RTO charges \n",
    "def fixed_rto_charge_zone_wise(x):\n",
    "    if(x=='a'):\n",
    "        return 13.6\n",
    "    elif(x=='b'):\n",
    "        return 20.5\n",
    "    elif(x=='c'):\n",
    "        return 31.9\n",
    "    elif(x=='d'):\n",
    "        return 41.3\n",
    "    elif(x=='e'):\n",
    "        return 50.7\n",
    "def additional_rto_charge_zone_wise(x):\n",
    "    if(x=='a'):\n",
    "        return 23.6\n",
    "    elif(x=='b'):\n",
    "        return 28.3\n",
    "    elif(x=='c'):\n",
    "        return 38.9\n",
    "    elif(x=='d'):\n",
    "        return 44.8\n",
    "    elif(x=='e'):\n",
    "        return 55.5\n"
   ]
  },
  {
   "cell_type": "code",
   "execution_count": 43,
   "id": "5a99ad18",
   "metadata": {},
   "outputs": [],
   "source": [
    "x_fc_rto['fixed_rto_charge']=x_fc_rto['Zone_x'].apply(fixed_rto_charge_zone_wise)"
   ]
  },
  {
   "cell_type": "code",
   "execution_count": 44,
   "id": "d3648e0a",
   "metadata": {},
   "outputs": [],
   "source": [
    "x_fc_rto['additional_rto_charge']=x_fc_rto['Zone_x'].apply(additional_rto_charge_zone_wise)"
   ]
  },
  {
   "cell_type": "markdown",
   "id": "fd7be34a",
   "metadata": {},
   "source": [
    "calculating expected cost "
   ]
  },
  {
   "cell_type": "code",
   "execution_count": 45,
   "id": "f63cecbd",
   "metadata": {},
   "outputs": [],
   "source": [
    "x_fc['Expected_cost']=x_fc['fixed_charge_fc'] + x_fc['additional_factor']*x_fc['additional_charge_fc']"
   ]
  },
  {
   "cell_type": "code",
   "execution_count": 46,
   "id": "f0e4f4d1",
   "metadata": {},
   "outputs": [],
   "source": [
    "x_fc_rto['Expected_cost']=x_fc_rto['fixed_charge_fc']+x_fc_rto['fixed_rto_charge']+x_fc_rto['additional_rto_charge']*x_fc_rto['additional_factor']+x_fc_rto['additional_charge_fc']*x_fc_rto['additional_factor']"
   ]
  },
  {
   "cell_type": "code",
   "execution_count": 47,
   "id": "a271a477",
   "metadata": {},
   "outputs": [],
   "source": [
    "ds=pd.concat([x_fc,x_fc_rto])"
   ]
  },
  {
   "cell_type": "code",
   "execution_count": 48,
   "id": "024cca96",
   "metadata": {},
   "outputs": [],
   "source": [
    "ds.sort_index(inplace=True)"
   ]
  },
  {
   "cell_type": "code",
   "execution_count": null,
   "id": "55b9a305",
   "metadata": {},
   "outputs": [],
   "source": []
  },
  {
   "cell_type": "code",
   "execution_count": 49,
   "id": "5f78fe88",
   "metadata": {},
   "outputs": [],
   "source": [
    "# making column diffeence which shows the diffeences between the cost \n",
    "ds['difference']=ds['Expected_cost']-ds['Billing Amount (Rs.)']"
   ]
  },
  {
   "cell_type": "code",
   "execution_count": null,
   "id": "323e93a8",
   "metadata": {},
   "outputs": [],
   "source": []
  },
  {
   "cell_type": "code",
   "execution_count": 50,
   "id": "b8215ab2",
   "metadata": {},
   "outputs": [],
   "source": [
    "# making output table 1 as required for solution \n",
    "df=pd.DataFrame(ds[['Order ID','AWB Code','Total_Weight_kg_x','wt_slab_as_per_x','Charged Weight','wt_slab_courier_company',\n",
    "                   'Zone_x','Zone','Expected_cost','Billing Amount (Rs.)','difference']])\n"
   ]
  },
  {
   "cell_type": "markdown",
   "id": "214c1a81",
   "metadata": {},
   "source": [
    "# Output table 1"
   ]
  },
  {
   "cell_type": "code",
   "execution_count": 51,
   "id": "b9a31b5d",
   "metadata": {},
   "outputs": [
    {
     "data": {
      "text/html": [
       "<div>\n",
       "<style scoped>\n",
       "    .dataframe tbody tr th:only-of-type {\n",
       "        vertical-align: middle;\n",
       "    }\n",
       "\n",
       "    .dataframe tbody tr th {\n",
       "        vertical-align: top;\n",
       "    }\n",
       "\n",
       "    .dataframe thead th {\n",
       "        text-align: right;\n",
       "    }\n",
       "</style>\n",
       "<table border=\"1\" class=\"dataframe\">\n",
       "  <thead>\n",
       "    <tr style=\"text-align: right;\">\n",
       "      <th></th>\n",
       "      <th>Order ID</th>\n",
       "      <th>AWB Code</th>\n",
       "      <th>Total_Weight_kg_x</th>\n",
       "      <th>wt_slab_as_per_x</th>\n",
       "      <th>Charged Weight</th>\n",
       "      <th>wt_slab_courier_company</th>\n",
       "      <th>Zone_x</th>\n",
       "      <th>Zone</th>\n",
       "      <th>Expected_cost</th>\n",
       "      <th>Billing Amount (Rs.)</th>\n",
       "      <th>difference</th>\n",
       "    </tr>\n",
       "  </thead>\n",
       "  <tbody>\n",
       "    <tr>\n",
       "      <th>0</th>\n",
       "      <td>2001806210</td>\n",
       "      <td>1091117221940</td>\n",
       "      <td>0.220</td>\n",
       "      <td>0.5</td>\n",
       "      <td>2.92</td>\n",
       "      <td>3.0</td>\n",
       "      <td>d</td>\n",
       "      <td>b</td>\n",
       "      <td>45.4</td>\n",
       "      <td>174.5</td>\n",
       "      <td>-129.1</td>\n",
       "    </tr>\n",
       "    <tr>\n",
       "      <th>1</th>\n",
       "      <td>2001806226</td>\n",
       "      <td>1091117222065</td>\n",
       "      <td>0.480</td>\n",
       "      <td>0.5</td>\n",
       "      <td>0.68</td>\n",
       "      <td>1.0</td>\n",
       "      <td>d</td>\n",
       "      <td>d</td>\n",
       "      <td>45.4</td>\n",
       "      <td>90.2</td>\n",
       "      <td>-44.8</td>\n",
       "    </tr>\n",
       "    <tr>\n",
       "      <th>2</th>\n",
       "      <td>2001806229</td>\n",
       "      <td>1091117222080</td>\n",
       "      <td>0.500</td>\n",
       "      <td>0.5</td>\n",
       "      <td>0.71</td>\n",
       "      <td>1.0</td>\n",
       "      <td>d</td>\n",
       "      <td>d</td>\n",
       "      <td>45.4</td>\n",
       "      <td>90.2</td>\n",
       "      <td>-44.8</td>\n",
       "    </tr>\n",
       "    <tr>\n",
       "      <th>3</th>\n",
       "      <td>2001806232</td>\n",
       "      <td>1091117222124</td>\n",
       "      <td>1.302</td>\n",
       "      <td>1.5</td>\n",
       "      <td>1.30</td>\n",
       "      <td>1.5</td>\n",
       "      <td>b</td>\n",
       "      <td>d</td>\n",
       "      <td>89.6</td>\n",
       "      <td>135.0</td>\n",
       "      <td>-45.4</td>\n",
       "    </tr>\n",
       "    <tr>\n",
       "      <th>4</th>\n",
       "      <td>2001806233</td>\n",
       "      <td>1091117222135</td>\n",
       "      <td>0.245</td>\n",
       "      <td>0.5</td>\n",
       "      <td>0.78</td>\n",
       "      <td>1.0</td>\n",
       "      <td>d</td>\n",
       "      <td>b</td>\n",
       "      <td>45.4</td>\n",
       "      <td>61.3</td>\n",
       "      <td>-15.9</td>\n",
       "    </tr>\n",
       "    <tr>\n",
       "      <th>...</th>\n",
       "      <td>...</td>\n",
       "      <td>...</td>\n",
       "      <td>...</td>\n",
       "      <td>...</td>\n",
       "      <td>...</td>\n",
       "      <td>...</td>\n",
       "      <td>...</td>\n",
       "      <td>...</td>\n",
       "      <td>...</td>\n",
       "      <td>...</td>\n",
       "      <td>...</td>\n",
       "    </tr>\n",
       "    <tr>\n",
       "      <th>119</th>\n",
       "      <td>2001821995</td>\n",
       "      <td>1091121183730</td>\n",
       "      <td>0.477</td>\n",
       "      <td>0.5</td>\n",
       "      <td>0.50</td>\n",
       "      <td>0.5</td>\n",
       "      <td>b</td>\n",
       "      <td>d</td>\n",
       "      <td>33.0</td>\n",
       "      <td>45.4</td>\n",
       "      <td>-12.4</td>\n",
       "    </tr>\n",
       "    <tr>\n",
       "      <th>120</th>\n",
       "      <td>2001822466</td>\n",
       "      <td>1091121305541</td>\n",
       "      <td>1.376</td>\n",
       "      <td>1.5</td>\n",
       "      <td>1.10</td>\n",
       "      <td>1.5</td>\n",
       "      <td>b</td>\n",
       "      <td>d</td>\n",
       "      <td>89.6</td>\n",
       "      <td>135.0</td>\n",
       "      <td>-45.4</td>\n",
       "    </tr>\n",
       "    <tr>\n",
       "      <th>121</th>\n",
       "      <td>2001823564</td>\n",
       "      <td>1091121666133</td>\n",
       "      <td>0.672</td>\n",
       "      <td>1.0</td>\n",
       "      <td>0.70</td>\n",
       "      <td>1.0</td>\n",
       "      <td>b</td>\n",
       "      <td>d</td>\n",
       "      <td>110.1</td>\n",
       "      <td>172.8</td>\n",
       "      <td>-62.7</td>\n",
       "    </tr>\n",
       "    <tr>\n",
       "      <th>122</th>\n",
       "      <td>2001825261</td>\n",
       "      <td>1091121981575</td>\n",
       "      <td>1.557</td>\n",
       "      <td>2.0</td>\n",
       "      <td>1.60</td>\n",
       "      <td>2.0</td>\n",
       "      <td>e</td>\n",
       "      <td>d</td>\n",
       "      <td>440.3</td>\n",
       "      <td>345.0</td>\n",
       "      <td>95.3</td>\n",
       "    </tr>\n",
       "    <tr>\n",
       "      <th>123</th>\n",
       "      <td>2001827036</td>\n",
       "      <td>1091122418320</td>\n",
       "      <td>1.676</td>\n",
       "      <td>2.0</td>\n",
       "      <td>1.60</td>\n",
       "      <td>2.0</td>\n",
       "      <td>b</td>\n",
       "      <td>b</td>\n",
       "      <td>117.9</td>\n",
       "      <td>117.9</td>\n",
       "      <td>0.0</td>\n",
       "    </tr>\n",
       "  </tbody>\n",
       "</table>\n",
       "<p>124 rows × 11 columns</p>\n",
       "</div>"
      ],
      "text/plain": [
       "       Order ID       AWB Code  Total_Weight_kg_x  wt_slab_as_per_x  \\\n",
       "0    2001806210  1091117221940              0.220               0.5   \n",
       "1    2001806226  1091117222065              0.480               0.5   \n",
       "2    2001806229  1091117222080              0.500               0.5   \n",
       "3    2001806232  1091117222124              1.302               1.5   \n",
       "4    2001806233  1091117222135              0.245               0.5   \n",
       "..          ...            ...                ...               ...   \n",
       "119  2001821995  1091121183730              0.477               0.5   \n",
       "120  2001822466  1091121305541              1.376               1.5   \n",
       "121  2001823564  1091121666133              0.672               1.0   \n",
       "122  2001825261  1091121981575              1.557               2.0   \n",
       "123  2001827036  1091122418320              1.676               2.0   \n",
       "\n",
       "     Charged Weight  wt_slab_courier_company Zone_x Zone  Expected_cost  \\\n",
       "0              2.92                      3.0      d    b           45.4   \n",
       "1              0.68                      1.0      d    d           45.4   \n",
       "2              0.71                      1.0      d    d           45.4   \n",
       "3              1.30                      1.5      b    d           89.6   \n",
       "4              0.78                      1.0      d    b           45.4   \n",
       "..              ...                      ...    ...  ...            ...   \n",
       "119            0.50                      0.5      b    d           33.0   \n",
       "120            1.10                      1.5      b    d           89.6   \n",
       "121            0.70                      1.0      b    d          110.1   \n",
       "122            1.60                      2.0      e    d          440.3   \n",
       "123            1.60                      2.0      b    b          117.9   \n",
       "\n",
       "     Billing Amount (Rs.)  difference  \n",
       "0                   174.5      -129.1  \n",
       "1                    90.2       -44.8  \n",
       "2                    90.2       -44.8  \n",
       "3                   135.0       -45.4  \n",
       "4                    61.3       -15.9  \n",
       "..                    ...         ...  \n",
       "119                  45.4       -12.4  \n",
       "120                 135.0       -45.4  \n",
       "121                 172.8       -62.7  \n",
       "122                 345.0        95.3  \n",
       "123                 117.9         0.0  \n",
       "\n",
       "[124 rows x 11 columns]"
      ]
     },
     "execution_count": 51,
     "metadata": {},
     "output_type": "execute_result"
    }
   ],
   "source": [
    "df"
   ]
  },
  {
   "cell_type": "code",
   "execution_count": 52,
   "id": "6ab45469",
   "metadata": {},
   "outputs": [],
   "source": [
    "#df.to_csv('Cointab_Output_1.csv') # this code has been used to export dataframe "
   ]
  },
  {
   "cell_type": "markdown",
   "id": "71b393f0",
   "metadata": {},
   "source": [
    "# Output 2"
   ]
  },
  {
   "cell_type": "code",
   "execution_count": 53,
   "id": "60b33bb3",
   "metadata": {},
   "outputs": [
    {
     "name": "stdout",
     "output_type": "stream",
     "text": [
      "Total orders where X has been correctly charged count = 15\n",
      "Total Correct invoice amount 1161.9\n"
     ]
    }
   ],
   "source": [
    "print(\"Total orders where X has been correctly charged count = {}\".format(ds[ds['difference']==0].shape[0]))\n",
    "print(\"Total Correct invoice amount {}\".format(ds[ds['difference']==0]['Expected_cost'].sum()))\n"
   ]
  },
  {
   "cell_type": "code",
   "execution_count": 54,
   "id": "5333b86f",
   "metadata": {},
   "outputs": [
    {
     "name": "stdout",
     "output_type": "stream",
     "text": [
      "Total Orders where X has been overcharged = 92\n",
      "Total overcharging amount = 4941.9\n"
     ]
    }
   ],
   "source": [
    "# total orders where x has been overcharged\n",
    "overcharged=ds[ds['Billing Amount (Rs.)']>ds['Expected_cost']]\n",
    "\n",
    "over_amount=overcharged['Billing Amount (Rs.)'].sum()-overcharged['Expected_cost'].sum()\n",
    "\n",
    "print(\"Total Orders where X has been overcharged = {}\".format(overcharged.shape[0]))\n",
    "print(\"Total overcharging amount = {}\".format(over_amount))\n"
   ]
  },
  {
   "cell_type": "code",
   "execution_count": 55,
   "id": "065a2a22",
   "metadata": {},
   "outputs": [
    {
     "name": "stdout",
     "output_type": "stream",
     "text": [
      "Total Orders where X has been overcharged = 17\n",
      "Total overcharging amount = 489.0\n"
     ]
    }
   ],
   "source": [
    "# total orders where x has been undercharged\n",
    "under_charged=ds[ds['Billing Amount (Rs.)']<ds['Expected_cost']]\n",
    "\n",
    "under_amount=under_charged['Expected_cost'].sum()-under_charged['Billing Amount (Rs.)'].sum()\n",
    "\n",
    "\n",
    "print(\"Total Orders where X has been overcharged = {}\".format(under_charged.shape[0]))\n",
    "print(\"Total overcharging amount = {}\".format(round(under_amount,2)))"
   ]
  },
  {
   "cell_type": "markdown",
   "id": "176874fc",
   "metadata": {},
   "source": [
    "# Thankyou "
   ]
  }
 ],
 "metadata": {
  "kernelspec": {
   "display_name": "Python 3",
   "language": "python",
   "name": "python3"
  },
  "language_info": {
   "codemirror_mode": {
    "name": "ipython",
    "version": 3
   },
   "file_extension": ".py",
   "mimetype": "text/x-python",
   "name": "python",
   "nbconvert_exporter": "python",
   "pygments_lexer": "ipython3",
   "version": "3.8.8"
  }
 },
 "nbformat": 4,
 "nbformat_minor": 5
}
