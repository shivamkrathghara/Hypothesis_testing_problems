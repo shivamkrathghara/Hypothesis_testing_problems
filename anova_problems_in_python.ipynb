{
  "nbformat": 4,
  "nbformat_minor": 0,
  "metadata": {
    "colab": {
      "name": "anova1_way_basic.ipynb",
      "provenance": [],
      "authorship_tag": "ABX9TyPu5TGcnbcZpx2ry2GIU716",
      "include_colab_link": true
    },
    "kernelspec": {
      "name": "python3",
      "display_name": "Python 3"
    },
    "language_info": {
      "name": "python"
    }
  },
  "cells": [
    {
      "cell_type": "markdown",
      "metadata": {
        "id": "view-in-github",
        "colab_type": "text"
      },
      "source": [
        "<a href=\"https://colab.research.google.com/github/shivamkrathghara/first/blob/main/anova_problems_in_python.ipynb\" target=\"_parent\"><img src=\"https://colab.research.google.com/assets/colab-badge.svg\" alt=\"Open In Colab\"/></a>"
      ]
    },
    {
      "cell_type": "markdown",
      "metadata": {
        "id": "CRr3y9j6vkab"
      },
      "source": [
        "###### **Problem 1-Compare three Teaching Methods Using by using obtained marks**"
      ]
    },
    {
      "cell_type": "markdown",
      "metadata": {
        "id": "2FVFfv0BPF1I"
      },
      "source": [
        "# Loading Libraraies "
      ]
    },
    {
      "cell_type": "code",
      "metadata": {
        "colab": {
          "base_uri": "https://localhost:8080/"
        },
        "id": "FkKjWDpr1J_s",
        "outputId": "8170b577-1962-44e3-a679-28edd68565d2"
      },
      "source": [
        "from scipy import stats\n",
        "import scipy\n",
        "import math\n",
        "import statsmodels.api as sm\n",
        "from  statsmodels.formula.api import ols\n",
        "import pandas as pd\n",
        "import matplotlib.pyplot as plt\n",
        "import numpy as np\n",
        "from statsmodels.stats.multicomp import pairwise_tukeyhsd\n",
        "from statsmodels.stats.multicomp import MultiComparison"
      ],
      "execution_count": 1,
      "outputs": [
        {
          "output_type": "stream",
          "text": [
            "/usr/local/lib/python3.7/dist-packages/statsmodels/tools/_testing.py:19: FutureWarning: pandas.util.testing is deprecated. Use the functions in the public API at pandas.testing instead.\n",
            "  import pandas.util.testing as tm\n"
          ],
          "name": "stderr"
        }
      ]
    },
    {
      "cell_type": "code",
      "metadata": {
        "id": "LE4PvcDLPU2N"
      },
      "source": [
        ""
      ],
      "execution_count": 1,
      "outputs": []
    },
    {
      "cell_type": "markdown",
      "metadata": {
        "id": "5Ku0MCW1PWF9"
      },
      "source": [
        "data"
      ]
    },
    {
      "cell_type": "code",
      "metadata": {
        "id": "KRFUlP35w8wF"
      },
      "source": [
        "df={'tm1':[4,3,2],\n",
        "'tm2':[2,4,6],\n",
        "'tm3':[2,1,3]\n",
        "}"
      ],
      "execution_count": 2,
      "outputs": []
    },
    {
      "cell_type": "code",
      "metadata": {
        "id": "qEZ_llra3A7p"
      },
      "source": [
        "data=pd.DataFrame(data=df,columns=['tm1','tm2','tm3'])"
      ],
      "execution_count": 3,
      "outputs": []
    },
    {
      "cell_type": "code",
      "metadata": {
        "colab": {
          "base_uri": "https://localhost:8080/",
          "height": 142
        },
        "id": "k9_kFfx21MFr",
        "outputId": "d2bb196c-8176-4451-e167-fec8f8e45556"
      },
      "source": [
        "data"
      ],
      "execution_count": 4,
      "outputs": [
        {
          "output_type": "execute_result",
          "data": {
            "text/html": [
              "<div>\n",
              "<style scoped>\n",
              "    .dataframe tbody tr th:only-of-type {\n",
              "        vertical-align: middle;\n",
              "    }\n",
              "\n",
              "    .dataframe tbody tr th {\n",
              "        vertical-align: top;\n",
              "    }\n",
              "\n",
              "    .dataframe thead th {\n",
              "        text-align: right;\n",
              "    }\n",
              "</style>\n",
              "<table border=\"1\" class=\"dataframe\">\n",
              "  <thead>\n",
              "    <tr style=\"text-align: right;\">\n",
              "      <th></th>\n",
              "      <th>tm1</th>\n",
              "      <th>tm2</th>\n",
              "      <th>tm3</th>\n",
              "    </tr>\n",
              "  </thead>\n",
              "  <tbody>\n",
              "    <tr>\n",
              "      <th>0</th>\n",
              "      <td>4</td>\n",
              "      <td>2</td>\n",
              "      <td>2</td>\n",
              "    </tr>\n",
              "    <tr>\n",
              "      <th>1</th>\n",
              "      <td>3</td>\n",
              "      <td>4</td>\n",
              "      <td>1</td>\n",
              "    </tr>\n",
              "    <tr>\n",
              "      <th>2</th>\n",
              "      <td>2</td>\n",
              "      <td>6</td>\n",
              "      <td>3</td>\n",
              "    </tr>\n",
              "  </tbody>\n",
              "</table>\n",
              "</div>"
            ],
            "text/plain": [
              "   tm1  tm2  tm3\n",
              "0    4    2    2\n",
              "1    3    4    1\n",
              "2    2    6    3"
            ]
          },
          "metadata": {
            "tags": []
          },
          "execution_count": 4
        }
      ]
    },
    {
      "cell_type": "code",
      "metadata": {
        "id": "voztMlXf41qN"
      },
      "source": [
        "data_new=pd.melt(data.reset_index(),id_vars=['index'],value_vars=['tm1','tm2','tm3'])\n",
        "data_new.columns=['Index','Treatments','Values']"
      ],
      "execution_count": 5,
      "outputs": []
    },
    {
      "cell_type": "code",
      "metadata": {
        "colab": {
          "base_uri": "https://localhost:8080/",
          "height": 326
        },
        "id": "L9UBYStv-aeA",
        "outputId": "71527a1c-db80-4721-dea2-c0322d557c65"
      },
      "source": [
        "data_new"
      ],
      "execution_count": 6,
      "outputs": [
        {
          "output_type": "execute_result",
          "data": {
            "text/html": [
              "<div>\n",
              "<style scoped>\n",
              "    .dataframe tbody tr th:only-of-type {\n",
              "        vertical-align: middle;\n",
              "    }\n",
              "\n",
              "    .dataframe tbody tr th {\n",
              "        vertical-align: top;\n",
              "    }\n",
              "\n",
              "    .dataframe thead th {\n",
              "        text-align: right;\n",
              "    }\n",
              "</style>\n",
              "<table border=\"1\" class=\"dataframe\">\n",
              "  <thead>\n",
              "    <tr style=\"text-align: right;\">\n",
              "      <th></th>\n",
              "      <th>Index</th>\n",
              "      <th>Treatments</th>\n",
              "      <th>Values</th>\n",
              "    </tr>\n",
              "  </thead>\n",
              "  <tbody>\n",
              "    <tr>\n",
              "      <th>0</th>\n",
              "      <td>0</td>\n",
              "      <td>tm1</td>\n",
              "      <td>4</td>\n",
              "    </tr>\n",
              "    <tr>\n",
              "      <th>1</th>\n",
              "      <td>1</td>\n",
              "      <td>tm1</td>\n",
              "      <td>3</td>\n",
              "    </tr>\n",
              "    <tr>\n",
              "      <th>2</th>\n",
              "      <td>2</td>\n",
              "      <td>tm1</td>\n",
              "      <td>2</td>\n",
              "    </tr>\n",
              "    <tr>\n",
              "      <th>3</th>\n",
              "      <td>0</td>\n",
              "      <td>tm2</td>\n",
              "      <td>2</td>\n",
              "    </tr>\n",
              "    <tr>\n",
              "      <th>4</th>\n",
              "      <td>1</td>\n",
              "      <td>tm2</td>\n",
              "      <td>4</td>\n",
              "    </tr>\n",
              "    <tr>\n",
              "      <th>5</th>\n",
              "      <td>2</td>\n",
              "      <td>tm2</td>\n",
              "      <td>6</td>\n",
              "    </tr>\n",
              "    <tr>\n",
              "      <th>6</th>\n",
              "      <td>0</td>\n",
              "      <td>tm3</td>\n",
              "      <td>2</td>\n",
              "    </tr>\n",
              "    <tr>\n",
              "      <th>7</th>\n",
              "      <td>1</td>\n",
              "      <td>tm3</td>\n",
              "      <td>1</td>\n",
              "    </tr>\n",
              "    <tr>\n",
              "      <th>8</th>\n",
              "      <td>2</td>\n",
              "      <td>tm3</td>\n",
              "      <td>3</td>\n",
              "    </tr>\n",
              "  </tbody>\n",
              "</table>\n",
              "</div>"
            ],
            "text/plain": [
              "   Index Treatments  Values\n",
              "0      0        tm1       4\n",
              "1      1        tm1       3\n",
              "2      2        tm1       2\n",
              "3      0        tm2       2\n",
              "4      1        tm2       4\n",
              "5      2        tm2       6\n",
              "6      0        tm3       2\n",
              "7      1        tm3       1\n",
              "8      2        tm3       3"
            ]
          },
          "metadata": {
            "tags": []
          },
          "execution_count": 6
        }
      ]
    },
    {
      "cell_type": "code",
      "metadata": {
        "colab": {
          "base_uri": "https://localhost:8080/",
          "height": 110
        },
        "id": "JDRY4D1iCVYA",
        "outputId": "298a79fd-0d73-44ce-e8a7-78adc7b92176"
      },
      "source": [
        "model=ols('Values~Treatments',data=data_new)\n",
        "fittedmodel=model.fit()\n",
        "anova_table=sm.stats.anova_lm(fittedmodel)\n",
        "anova_table\n"
      ],
      "execution_count": 7,
      "outputs": [
        {
          "output_type": "execute_result",
          "data": {
            "text/html": [
              "<div>\n",
              "<style scoped>\n",
              "    .dataframe tbody tr th:only-of-type {\n",
              "        vertical-align: middle;\n",
              "    }\n",
              "\n",
              "    .dataframe tbody tr th {\n",
              "        vertical-align: top;\n",
              "    }\n",
              "\n",
              "    .dataframe thead th {\n",
              "        text-align: right;\n",
              "    }\n",
              "</style>\n",
              "<table border=\"1\" class=\"dataframe\">\n",
              "  <thead>\n",
              "    <tr style=\"text-align: right;\">\n",
              "      <th></th>\n",
              "      <th>df</th>\n",
              "      <th>sum_sq</th>\n",
              "      <th>mean_sq</th>\n",
              "      <th>F</th>\n",
              "      <th>PR(&gt;F)</th>\n",
              "    </tr>\n",
              "  </thead>\n",
              "  <tbody>\n",
              "    <tr>\n",
              "      <th>Treatments</th>\n",
              "      <td>2.0</td>\n",
              "      <td>6.0</td>\n",
              "      <td>3.0</td>\n",
              "      <td>1.5</td>\n",
              "      <td>0.296296</td>\n",
              "    </tr>\n",
              "    <tr>\n",
              "      <th>Residual</th>\n",
              "      <td>6.0</td>\n",
              "      <td>12.0</td>\n",
              "      <td>2.0</td>\n",
              "      <td>NaN</td>\n",
              "      <td>NaN</td>\n",
              "    </tr>\n",
              "  </tbody>\n",
              "</table>\n",
              "</div>"
            ],
            "text/plain": [
              "             df  sum_sq  mean_sq    F    PR(>F)\n",
              "Treatments  2.0     6.0      3.0  1.5  0.296296\n",
              "Residual    6.0    12.0      2.0  NaN       NaN"
            ]
          },
          "metadata": {
            "tags": []
          },
          "execution_count": 7
        }
      ]
    },
    {
      "cell_type": "code",
      "metadata": {
        "id": "_Qq3qImEPCPB"
      },
      "source": [
        ""
      ],
      "execution_count": 7,
      "outputs": []
    },
    {
      "cell_type": "markdown",
      "metadata": {
        "id": "FlFdvYy2Plt-"
      },
      "source": [
        "Since p value is gteater than .05 so we fail to reject the Null Hypothesis "
      ]
    },
    {
      "cell_type": "code",
      "metadata": {
        "id": "oUkBJ6_5PCvF"
      },
      "source": [
        ""
      ],
      "execution_count": 7,
      "outputs": []
    },
    {
      "cell_type": "markdown",
      "metadata": {
        "id": "WqoybDgYQzgr"
      },
      "source": [
        "##### **"
      ]
    },
    {
      "cell_type": "markdown",
      "metadata": {
        "id": "So-KxOMuRyRC"
      },
      "source": [
        "****"
      ]
    },
    {
      "cell_type": "markdown",
      "metadata": {
        "id": "RGylszAsR2va"
      },
      "source": [
        "**Problem 2 - A manufacturer of paper that is used for making grocery bags is interested in improving the tensile strength of the product.Product engineer thinks that tensile strength is a function of the hardwood concentration in the\n",
        "pulp and that the range of hardwood concentrations of practical interest is between 5 and 20%.A team of engineers responsible for the study decides to investigate four levels of hardwood concentration: 5%, 10%, 15%, and 20%.They decide to make up six test specimens at each concentration level, using a pilot plant.All 24 specimens are tested on a laboratory tensile tester, in random order.The data from this experiment are shown in Tabl**"
      ]
    },
    {
      "cell_type": "code",
      "metadata": {
        "colab": {
          "base_uri": "https://localhost:8080/",
          "height": 265
        },
        "id": "jQ76Sq3LTWe9",
        "outputId": "c62f8ec5-e0d4-4ca8-bc3f-9f5ce678716a"
      },
      "source": [
        "hc_5=[7,8,15,11,9,10]\n",
        "hc_10=[12,17,13,18,19,15]\n",
        "hc_15=[14,18,19,17,16,18]\n",
        "hc_20=[19,25,22,23,18,20]\n",
        "\n",
        "# hc=hardwood Concentartion\n",
        "data=[hc_5,hc_10,hc_15,hc_20]\n",
        "plt.boxplot(data)\n",
        "plt.show()\n",
        "\n"
      ],
      "execution_count": 8,
      "outputs": [
        {
          "output_type": "display_data",
          "data": {
            "image/png": "[encoded data removed]",
            "text/plain": [
              "<Figure size 432x288 with 1 Axes>"
            ]
          },
          "metadata": {
            "tags": [],
            "needs_background": "light"
          }
        }
      ]
    },
    {
      "cell_type": "code",
      "metadata": {
        "colab": {
          "base_uri": "https://localhost:8080/",
          "height": 234
        },
        "id": "SwDIai8aU0-x",
        "outputId": "24009cbd-8af3-4879-e9f3-8e662a2c3867"
      },
      "source": [
        "data=pd.DataFrame(list(zip(hc_5,hc_10,hc_15,hc_20)),columns=['hc_5','hc_10','hc_15','hc_20'])\n",
        "data"
      ],
      "execution_count": 9,
      "outputs": [
        {
          "output_type": "execute_result",
          "data": {
            "text/html": [
              "<div>\n",
              "<style scoped>\n",
              "    .dataframe tbody tr th:only-of-type {\n",
              "        vertical-align: middle;\n",
              "    }\n",
              "\n",
              "    .dataframe tbody tr th {\n",
              "        vertical-align: top;\n",
              "    }\n",
              "\n",
              "    .dataframe thead th {\n",
              "        text-align: right;\n",
              "    }\n",
              "</style>\n",
              "<table border=\"1\" class=\"dataframe\">\n",
              "  <thead>\n",
              "    <tr style=\"text-align: right;\">\n",
              "      <th></th>\n",
              "      <th>hc_5</th>\n",
              "      <th>hc_10</th>\n",
              "      <th>hc_15</th>\n",
              "      <th>hc_20</th>\n",
              "    </tr>\n",
              "  </thead>\n",
              "  <tbody>\n",
              "    <tr>\n",
              "      <th>0</th>\n",
              "      <td>7</td>\n",
              "      <td>12</td>\n",
              "      <td>14</td>\n",
              "      <td>19</td>\n",
              "    </tr>\n",
              "    <tr>\n",
              "      <th>1</th>\n",
              "      <td>8</td>\n",
              "      <td>17</td>\n",
              "      <td>18</td>\n",
              "      <td>25</td>\n",
              "    </tr>\n",
              "    <tr>\n",
              "      <th>2</th>\n",
              "      <td>15</td>\n",
              "      <td>13</td>\n",
              "      <td>19</td>\n",
              "      <td>22</td>\n",
              "    </tr>\n",
              "    <tr>\n",
              "      <th>3</th>\n",
              "      <td>11</td>\n",
              "      <td>18</td>\n",
              "      <td>17</td>\n",
              "      <td>23</td>\n",
              "    </tr>\n",
              "    <tr>\n",
              "      <th>4</th>\n",
              "      <td>9</td>\n",
              "      <td>19</td>\n",
              "      <td>16</td>\n",
              "      <td>18</td>\n",
              "    </tr>\n",
              "    <tr>\n",
              "      <th>5</th>\n",
              "      <td>10</td>\n",
              "      <td>15</td>\n",
              "      <td>18</td>\n",
              "      <td>20</td>\n",
              "    </tr>\n",
              "  </tbody>\n",
              "</table>\n",
              "</div>"
            ],
            "text/plain": [
              "   hc_5  hc_10  hc_15  hc_20\n",
              "0     7     12     14     19\n",
              "1     8     17     18     25\n",
              "2    15     13     19     22\n",
              "3    11     18     17     23\n",
              "4     9     19     16     18\n",
              "5    10     15     18     20"
            ]
          },
          "metadata": {
            "tags": []
          },
          "execution_count": 9
        }
      ]
    },
    {
      "cell_type": "code",
      "metadata": {
        "colab": {
          "base_uri": "https://localhost:8080/",
          "height": 788
        },
        "id": "Kv4KzoYqV0dQ",
        "outputId": "c24c4692-9652-4a9a-b0c0-24da3d24a2e7"
      },
      "source": [
        "data_neww=pd.melt(data.reset_index(),id_vars=['index'],value_vars=['hc_5','hc_10','hc_15','hc_20'])\n",
        "data_neww.columns=['index','treatments','values']\n",
        "data_neww"
      ],
      "execution_count": 10,
      "outputs": [
        {
          "output_type": "execute_result",
          "data": {
            "text/html": [
              "<div>\n",
              "<style scoped>\n",
              "    .dataframe tbody tr th:only-of-type {\n",
              "        vertical-align: middle;\n",
              "    }\n",
              "\n",
              "    .dataframe tbody tr th {\n",
              "        vertical-align: top;\n",
              "    }\n",
              "\n",
              "    .dataframe thead th {\n",
              "        text-align: right;\n",
              "    }\n",
              "</style>\n",
              "<table border=\"1\" class=\"dataframe\">\n",
              "  <thead>\n",
              "    <tr style=\"text-align: right;\">\n",
              "      <th></th>\n",
              "      <th>index</th>\n",
              "      <th>treatments</th>\n",
              "      <th>values</th>\n",
              "    </tr>\n",
              "  </thead>\n",
              "  <tbody>\n",
              "    <tr>\n",
              "      <th>0</th>\n",
              "      <td>0</td>\n",
              "      <td>hc_5</td>\n",
              "      <td>7</td>\n",
              "    </tr>\n",
              "    <tr>\n",
              "      <th>1</th>\n",
              "      <td>1</td>\n",
              "      <td>hc_5</td>\n",
              "      <td>8</td>\n",
              "    </tr>\n",
              "    <tr>\n",
              "      <th>2</th>\n",
              "      <td>2</td>\n",
              "      <td>hc_5</td>\n",
              "      <td>15</td>\n",
              "    </tr>\n",
              "    <tr>\n",
              "      <th>3</th>\n",
              "      <td>3</td>\n",
              "      <td>hc_5</td>\n",
              "      <td>11</td>\n",
              "    </tr>\n",
              "    <tr>\n",
              "      <th>4</th>\n",
              "      <td>4</td>\n",
              "      <td>hc_5</td>\n",
              "      <td>9</td>\n",
              "    </tr>\n",
              "    <tr>\n",
              "      <th>5</th>\n",
              "      <td>5</td>\n",
              "      <td>hc_5</td>\n",
              "      <td>10</td>\n",
              "    </tr>\n",
              "    <tr>\n",
              "      <th>6</th>\n",
              "      <td>0</td>\n",
              "      <td>hc_10</td>\n",
              "      <td>12</td>\n",
              "    </tr>\n",
              "    <tr>\n",
              "      <th>7</th>\n",
              "      <td>1</td>\n",
              "      <td>hc_10</td>\n",
              "      <td>17</td>\n",
              "    </tr>\n",
              "    <tr>\n",
              "      <th>8</th>\n",
              "      <td>2</td>\n",
              "      <td>hc_10</td>\n",
              "      <td>13</td>\n",
              "    </tr>\n",
              "    <tr>\n",
              "      <th>9</th>\n",
              "      <td>3</td>\n",
              "      <td>hc_10</td>\n",
              "      <td>18</td>\n",
              "    </tr>\n",
              "    <tr>\n",
              "      <th>10</th>\n",
              "      <td>4</td>\n",
              "      <td>hc_10</td>\n",
              "      <td>19</td>\n",
              "    </tr>\n",
              "    <tr>\n",
              "      <th>11</th>\n",
              "      <td>5</td>\n",
              "      <td>hc_10</td>\n",
              "      <td>15</td>\n",
              "    </tr>\n",
              "    <tr>\n",
              "      <th>12</th>\n",
              "      <td>0</td>\n",
              "      <td>hc_15</td>\n",
              "      <td>14</td>\n",
              "    </tr>\n",
              "    <tr>\n",
              "      <th>13</th>\n",
              "      <td>1</td>\n",
              "      <td>hc_15</td>\n",
              "      <td>18</td>\n",
              "    </tr>\n",
              "    <tr>\n",
              "      <th>14</th>\n",
              "      <td>2</td>\n",
              "      <td>hc_15</td>\n",
              "      <td>19</td>\n",
              "    </tr>\n",
              "    <tr>\n",
              "      <th>15</th>\n",
              "      <td>3</td>\n",
              "      <td>hc_15</td>\n",
              "      <td>17</td>\n",
              "    </tr>\n",
              "    <tr>\n",
              "      <th>16</th>\n",
              "      <td>4</td>\n",
              "      <td>hc_15</td>\n",
              "      <td>16</td>\n",
              "    </tr>\n",
              "    <tr>\n",
              "      <th>17</th>\n",
              "      <td>5</td>\n",
              "      <td>hc_15</td>\n",
              "      <td>18</td>\n",
              "    </tr>\n",
              "    <tr>\n",
              "      <th>18</th>\n",
              "      <td>0</td>\n",
              "      <td>hc_20</td>\n",
              "      <td>19</td>\n",
              "    </tr>\n",
              "    <tr>\n",
              "      <th>19</th>\n",
              "      <td>1</td>\n",
              "      <td>hc_20</td>\n",
              "      <td>25</td>\n",
              "    </tr>\n",
              "    <tr>\n",
              "      <th>20</th>\n",
              "      <td>2</td>\n",
              "      <td>hc_20</td>\n",
              "      <td>22</td>\n",
              "    </tr>\n",
              "    <tr>\n",
              "      <th>21</th>\n",
              "      <td>3</td>\n",
              "      <td>hc_20</td>\n",
              "      <td>23</td>\n",
              "    </tr>\n",
              "    <tr>\n",
              "      <th>22</th>\n",
              "      <td>4</td>\n",
              "      <td>hc_20</td>\n",
              "      <td>18</td>\n",
              "    </tr>\n",
              "    <tr>\n",
              "      <th>23</th>\n",
              "      <td>5</td>\n",
              "      <td>hc_20</td>\n",
              "      <td>20</td>\n",
              "    </tr>\n",
              "  </tbody>\n",
              "</table>\n",
              "</div>"
            ],
            "text/plain": [
              "    index treatments  values\n",
              "0       0       hc_5       7\n",
              "1       1       hc_5       8\n",
              "2       2       hc_5      15\n",
              "3       3       hc_5      11\n",
              "4       4       hc_5       9\n",
              "5       5       hc_5      10\n",
              "6       0      hc_10      12\n",
              "7       1      hc_10      17\n",
              "8       2      hc_10      13\n",
              "9       3      hc_10      18\n",
              "10      4      hc_10      19\n",
              "11      5      hc_10      15\n",
              "12      0      hc_15      14\n",
              "13      1      hc_15      18\n",
              "14      2      hc_15      19\n",
              "15      3      hc_15      17\n",
              "16      4      hc_15      16\n",
              "17      5      hc_15      18\n",
              "18      0      hc_20      19\n",
              "19      1      hc_20      25\n",
              "20      2      hc_20      22\n",
              "21      3      hc_20      23\n",
              "22      4      hc_20      18\n",
              "23      5      hc_20      20"
            ]
          },
          "metadata": {
            "tags": []
          },
          "execution_count": 10
        }
      ]
    },
    {
      "cell_type": "code",
      "metadata": {
        "colab": {
          "base_uri": "https://localhost:8080/"
        },
        "id": "xdBeHVuOhx4O",
        "outputId": "7f9073f4-30ee-4ba0-c6de-39afcb3fdb22"
      },
      "source": [
        "np.mean(data['hc_5'])"
      ],
      "execution_count": 11,
      "outputs": [
        {
          "output_type": "execute_result",
          "data": {
            "text/plain": [
              "10.0"
            ]
          },
          "metadata": {
            "tags": []
          },
          "execution_count": 11
        }
      ]
    },
    {
      "cell_type": "code",
      "metadata": {
        "colab": {
          "base_uri": "https://localhost:8080/",
          "height": 110
        },
        "id": "N1-Op_h6XQvS",
        "outputId": "40033e7b-d1f6-4ffd-c6e3-18d9f19ad43c"
      },
      "source": [
        "model=ols('values~treatments',data=data_neww)\n",
        "fittedmodel=model.fit()\n",
        "anova_table=sm.stats.anova_lm(fittedmodel)\n",
        "anova_table"
      ],
      "execution_count": 12,
      "outputs": [
        {
          "output_type": "execute_result",
          "data": {
            "text/html": [
              "<div>\n",
              "<style scoped>\n",
              "    .dataframe tbody tr th:only-of-type {\n",
              "        vertical-align: middle;\n",
              "    }\n",
              "\n",
              "    .dataframe tbody tr th {\n",
              "        vertical-align: top;\n",
              "    }\n",
              "\n",
              "    .dataframe thead th {\n",
              "        text-align: right;\n",
              "    }\n",
              "</style>\n",
              "<table border=\"1\" class=\"dataframe\">\n",
              "  <thead>\n",
              "    <tr style=\"text-align: right;\">\n",
              "      <th></th>\n",
              "      <th>df</th>\n",
              "      <th>sum_sq</th>\n",
              "      <th>mean_sq</th>\n",
              "      <th>F</th>\n",
              "      <th>PR(&gt;F)</th>\n",
              "    </tr>\n",
              "  </thead>\n",
              "  <tbody>\n",
              "    <tr>\n",
              "      <th>treatments</th>\n",
              "      <td>3.0</td>\n",
              "      <td>382.791667</td>\n",
              "      <td>127.597222</td>\n",
              "      <td>19.605207</td>\n",
              "      <td>0.000004</td>\n",
              "    </tr>\n",
              "    <tr>\n",
              "      <th>Residual</th>\n",
              "      <td>20.0</td>\n",
              "      <td>130.166667</td>\n",
              "      <td>6.508333</td>\n",
              "      <td>NaN</td>\n",
              "      <td>NaN</td>\n",
              "    </tr>\n",
              "  </tbody>\n",
              "</table>\n",
              "</div>"
            ],
            "text/plain": [
              "              df      sum_sq     mean_sq          F    PR(>F)\n",
              "treatments   3.0  382.791667  127.597222  19.605207  0.000004\n",
              "Residual    20.0  130.166667    6.508333        NaN       NaN"
            ]
          },
          "metadata": {
            "tags": []
          },
          "execution_count": 12
        }
      ]
    },
    {
      "cell_type": "code",
      "metadata": {
        "colab": {
          "base_uri": "https://localhost:8080/"
        },
        "id": "YodyFJoKZI-V",
        "outputId": "478134be-72f7-493b-c65d-a2a116ff6752"
      },
      "source": [
        "scipy.stats.f.ppf(1-.01,3,20)"
      ],
      "execution_count": 13,
      "outputs": [
        {
          "output_type": "execute_result",
          "data": {
            "text/plain": [
              "4.938193382310539"
            ]
          },
          "metadata": {
            "tags": []
          },
          "execution_count": 13
        }
      ]
    },
    {
      "cell_type": "markdown",
      "metadata": {
        "id": "074ZpAWAZCaZ"
      },
      "source": [
        "Since the calulated value 19.60 is greater than 4.93 at level of asignificance   .01 so we will reject the null hypothesis and reach to the conclusion that hardwood concentration significantly affects the pulp.\n"
      ]
    },
    {
      "cell_type": "code",
      "metadata": {
        "id": "R93U2tyYdP9Y"
      },
      "source": [
        ""
      ],
      "execution_count": 13,
      "outputs": []
    },
    {
      "cell_type": "code",
      "metadata": {
        "colab": {
          "base_uri": "https://localhost:8080/"
        },
        "id": "5HrC-Xj4c7L-",
        "outputId": "58722373-0ca5-4a4e-9ef0-1e7fddd9ce5d"
      },
      "source": [
        "# NOW CALCULATING FISHER's LSD to find which two rows are different\n",
        "t=-1*scipy.stats.t.ppf(.025,20)\n",
        "t\n"
      ],
      "execution_count": 14,
      "outputs": [
        {
          "output_type": "execute_result",
          "data": {
            "text/plain": [
              "2.085963447265837"
            ]
          },
          "metadata": {
            "tags": []
          },
          "execution_count": 14
        }
      ]
    },
    {
      "cell_type": "code",
      "metadata": {
        "colab": {
          "base_uri": "https://localhost:8080/"
        },
        "id": "w3NBPOToe8gt",
        "outputId": "03bf57c7-8587-48ae-be7a-9b5d7d19bf06"
      },
      "source": [
        "n=6\n",
        "MSE=6.50883\n",
        "lsd=t*math.sqrt((2*MSE)/n)\n",
        "lsd"
      ],
      "execution_count": 15,
      "outputs": [
        {
          "output_type": "execute_result",
          "data": {
            "text/plain": [
              "3.0725398967723767"
            ]
          },
          "metadata": {
            "tags": []
          },
          "execution_count": 15
        }
      ]
    },
    {
      "cell_type": "code",
      "metadata": {
        "id": "_fKHxVjEfBBZ"
      },
      "source": [
        "def mean_com(df,colone,coltwo):\n",
        "  if np.mean(df[colone])<np.mean(df[coltwo]):\n",
        "                                    colone,coltwo=coltwo,colone\n",
        "  mean_diff=np.mean(df[colone])-np.mean(df[coltwo])\n",
        "  if mean_diff>lsd:\n",
        "    print(\"Found signficant difference\")\n",
        "  else: \n",
        "     print(\"not significant difference\")\n"
      ],
      "execution_count": 16,
      "outputs": []
    },
    {
      "cell_type": "code",
      "metadata": {
        "colab": {
          "base_uri": "https://localhost:8080/"
        },
        "id": "PqxzvPtbkcZr",
        "outputId": "25b2bae6-f93d-4b04-9097-28d1ce605029"
      },
      "source": [
        "n=6\n",
        "MSE=6.50883\n",
        "lsd=t*math.sqrt((2*MSE)/n)\n",
        "lsd"
      ],
      "execution_count": 17,
      "outputs": [
        {
          "output_type": "execute_result",
          "data": {
            "text/plain": [
              "3.0725398967723767"
            ]
          },
          "metadata": {
            "tags": []
          },
          "execution_count": 17
        }
      ]
    },
    {
      "cell_type": "code",
      "metadata": {
        "colab": {
          "base_uri": "https://localhost:8080/"
        },
        "id": "JoPAJy6ihZEX",
        "outputId": "48e35411-09d2-4b60-9b57-fad7d8b0724c"
      },
      "source": [
        "mean_com(data,'hc_5','hc_10')\n",
        "mean_com(data,'hc_5','hc_15')\n",
        "mean_com(data,'hc_5','hc_20')\n",
        "mean_com(data,'hc_10','hc_15')\n",
        "mean_com(data,'hc_10','hc_20')\n",
        "mean_com(data,'hc_15','hc_20')\n"
      ],
      "execution_count": 18,
      "outputs": [
        {
          "output_type": "stream",
          "text": [
            "Found signficant difference\n",
            "Found signficant difference\n",
            "Found signficant difference\n",
            "not significant difference\n",
            "Found signficant difference\n",
            "Found signficant difference\n"
          ],
          "name": "stdout"
        }
      ]
    },
    {
      "cell_type": "markdown",
      "metadata": {
        "id": "1oR1qSL7rc2r"
      },
      "source": [
        "From above we found that only hardwood concentration 10 and 15 and not significant difference and rest other are significantly differs. From the above boxplot we also observe that these value do not differs much "
      ]
    },
    {
      "cell_type": "code",
      "metadata": {
        "id": "sx-i8_VTsJgg"
      },
      "source": [
        ""
      ],
      "execution_count": 18,
      "outputs": []
    },
    {
      "cell_type": "markdown",
      "metadata": {
        "id": "Sy6qhvlosOw3"
      },
      "source": [
        "Now applyng Tukey's Cramers test"
      ]
    },
    {
      "cell_type": "code",
      "metadata": {
        "colab": {
          "base_uri": "https://localhost:8080/",
          "height": 178
        },
        "id": "xQtdBl8rsVDr",
        "outputId": "0097195f-3aee-44c3-b152-fd36e212e5c9"
      },
      "source": [
        "mc=MultiComparison(data_neww['values'],data_neww['treatments'])\n",
        "mcresult=mc.tukeyhsd(.05)\n",
        "mcresult.summary()\n"
      ],
      "execution_count": 19,
      "outputs": [
        {
          "output_type": "execute_result",
          "data": {
            "text/html": [
              "<table class=\"simpletable\">\n",
              "<caption>Multiple Comparison of Means - Tukey HSD, FWER=0.05</caption>\n",
              "<tr>\n",
              "  <th>group1</th> <th>group2</th> <th>meandiff</th>  <th>p-adj</th>   <th>lower</th>   <th>upper</th>  <th>reject</th>\n",
              "</tr>\n",
              "<tr>\n",
              "   <td>hc_10</td>  <td>hc_15</td>  <td>1.3333</td>  <td>0.7827</td>  <td>-2.7894</td> <td>5.4561</td>   <td>False</td>\n",
              "</tr>\n",
              "<tr>\n",
              "   <td>hc_10</td>  <td>hc_20</td>    <td>5.5</td>   <td>0.0066</td>  <td>1.3773</td>  <td>9.6227</td>   <td>True</td> \n",
              "</tr>\n",
              "<tr>\n",
              "   <td>hc_10</td>  <td>hc_5</td>   <td>-5.6667</td> <td>0.0051</td>  <td>-9.7894</td> <td>-1.5439</td>  <td>True</td> \n",
              "</tr>\n",
              "<tr>\n",
              "   <td>hc_15</td>  <td>hc_20</td>  <td>4.1667</td>   <td>0.047</td>  <td>0.0439</td>  <td>8.2894</td>   <td>True</td> \n",
              "</tr>\n",
              "<tr>\n",
              "   <td>hc_15</td>  <td>hc_5</td>    <td>-7.0</td>    <td>0.001</td> <td>-11.1227</td> <td>-2.8773</td>  <td>True</td> \n",
              "</tr>\n",
              "<tr>\n",
              "   <td>hc_20</td>  <td>hc_5</td>  <td>-11.1667</td>  <td>0.001</td> <td>-15.2894</td> <td>-7.0439</td>  <td>True</td> \n",
              "</tr>\n",
              "</table>"
            ],
            "text/plain": [
              "<class 'statsmodels.iolib.table.SimpleTable'>"
            ]
          },
          "metadata": {
            "tags": []
          },
          "execution_count": 19
        }
      ]
    },
    {
      "cell_type": "code",
      "metadata": {
        "id": "2Jbuf0mxtvJB"
      },
      "source": [
        ""
      ],
      "execution_count": 19,
      "outputs": []
    },
    {
      "cell_type": "markdown",
      "metadata": {
        "id": "k7cb1N4buDlV"
      },
      "source": [
        "from tukey's test we get that hc_10 and hc_15 not significantly differs.\n"
      ]
    }
  ]
}