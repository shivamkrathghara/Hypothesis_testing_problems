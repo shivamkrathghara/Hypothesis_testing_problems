{
  "nbformat": 4,
  "nbformat_minor": 0,
  "metadata": {
    "colab": {
      "name": "Untitled11.ipynb",
      "provenance": [],
      "authorship_tag": "ABX9TyPZlYnF9JMK1EJPq8iq1sjt"
    },
    "kernelspec": {
      "name": "python3",
      "display_name": "Python 3"
    },
    "language_info": {
      "name": "python"
    }
  },
  "cells": [
    {
      "cell_type": "code",
      "metadata": {
        "id": "wvUbNkJ3lzGz"
      },
      "source": [
        "import numpy as np"
      ],
      "execution_count": 1,
      "outputs": []
    },
    {
      "cell_type": "code",
      "metadata": {
        "id": "fzIaf5z-xYDB"
      },
      "source": [
        ""
      ],
      "execution_count": 153,
      "outputs": []
    },
    {
      "cell_type": "code",
      "metadata": {
        "id": "PPMoP7nu9Sxc"
      },
      "source": [
        ""
      ],
      "execution_count": null,
      "outputs": []
    },
    {
      "cell_type": "code",
      "metadata": {
        "id": "aIzqyovWD45x"
      },
      "source": [
        "##################################### KNN ALGORITHM ###############################################"
      ],
      "execution_count": 105,
      "outputs": []
    },
    {
      "cell_type": "code",
      "metadata": {
        "id": "oO5I5E0REAjH"
      },
      "source": [
        "### step 1 we have dataframe \n",
        "### step 2 we have query point \n",
        "### step 4 we have to set our k \n",
        "### now we have to find the the eucledian distance and then we will find the nearest k algorithm \n",
        "\n"
      ],
      "execution_count": null,
      "outputs": []
    },
    {
      "cell_type": "code",
      "metadata": {
        "id": "5VFYkca2FZl9"
      },
      "source": [
        "data=[[56,35],[65,14],[123,456],[147,658],[21,31],[96,35],[27,37]]\n",
        "\n",
        "\n"
      ],
      "execution_count": 145,
      "outputs": []
    },
    {
      "cell_type": "code",
      "metadata": {
        "id": "FPr9toIaJXEp"
      },
      "source": [
        "# let new point we got 44,88\n",
        "query_point=[44,88]"
      ],
      "execution_count": 146,
      "outputs": []
    },
    {
      "cell_type": "code",
      "metadata": {
        "id": "aiIWQh0-IXXE"
      },
      "source": [
        "#define eucleidan distance\n",
        "\n",
        "def euc_distance(x1,x2):\n",
        "  sum=0\n",
        "  for i,j in zip(x1,x2):\n",
        "    sum=sum+(i-j)**2\n",
        "  \n",
        "  distance=np.sqrt(sum)\n",
        "  return distance\n",
        "  #print(distance) #\n",
        "\n"
      ],
      "execution_count": 147,
      "outputs": []
    },
    {
      "cell_type": "code",
      "metadata": {
        "id": "7y6hGCfyJ06M"
      },
      "source": [
        "distance=[]\n",
        "for i in data:\n",
        "  k=euc_distance(i,query_point)\n",
        "  distance.append(k)"
      ],
      "execution_count": 148,
      "outputs": []
    },
    {
      "cell_type": "code",
      "metadata": {
        "colab": {
          "base_uri": "https://localhost:8080/"
        },
        "id": "7KbYyQZnLK5G",
        "outputId": "8cd94862-891c-4dcc-f4db-54cf6254b717"
      },
      "source": [
        "distance"
      ],
      "execution_count": 149,
      "outputs": [
        {
          "output_type": "execute_result",
          "data": {
            "text/plain": [
              "[54.3415126767741,\n",
              " 76.92203845452875,\n",
              " 376.3841123108147,\n",
              " 579.2313872710973,\n",
              " 61.465437442517235,\n",
              " 74.24957912338628,\n",
              " 53.75872022286245]"
            ]
          },
          "metadata": {},
          "execution_count": 149
        }
      ]
    },
    {
      "cell_type": "code",
      "metadata": {
        "id": "vwSNe-BbK98H"
      },
      "source": [
        "def rank_list(a):  # getting the rank of distance \n",
        "  s=sorted(a)\n",
        "  rank=[]\n",
        "  for i in a:\n",
        "    for j in range(len(s)):\n",
        "      if (i==s[j]):\n",
        "         rank.append(j+1)\n",
        "\n",
        "  print(rank)"
      ],
      "execution_count": 150,
      "outputs": []
    },
    {
      "cell_type": "code",
      "metadata": {
        "colab": {
          "base_uri": "https://localhost:8080/"
        },
        "id": "U4sJa07fLBZq",
        "outputId": "af0840ee-58b5-45b9-b26a-7d02337bc673"
      },
      "source": [
        "rank_list(distance)"
      ],
      "execution_count": 151,
      "outputs": [
        {
          "output_type": "stream",
          "name": "stdout",
          "text": [
            "[2, 5, 6, 7, 3, 4, 1]\n"
          ]
        }
      ]
    },
    {
      "cell_type": "code",
      "metadata": {
        "id": "eGHUPBLzLSQK"
      },
      "source": [
        "# if our nearest neighbour is 3 then data point 1 , 5, 7 are the 3 nearest neighbours and the class they belong to our new quesry point also belongs to this"
      ],
      "execution_count": 152,
      "outputs": []
    }
  ]
}